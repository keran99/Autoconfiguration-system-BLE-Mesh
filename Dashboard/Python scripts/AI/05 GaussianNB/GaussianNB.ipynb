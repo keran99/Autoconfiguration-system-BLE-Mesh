{
  "nbformat": 4,
  "nbformat_minor": 0,
  "metadata": {
    "colab": {
      "provenance": []
    },
    "kernelspec": {
      "name": "python3",
      "display_name": "Python 3"
    },
    "language_info": {
      "name": "python"
    }
  },
  "cells": [
    {
      "cell_type": "code",
      "source": [
        "from sklearn.naive_bayes import GaussianNB\n",
        "import pandas as pd\n",
        "from joblib import dump, load\n",
        "import itertools\n",
        "import csv"
      ],
      "metadata": {
        "id": "2DLBb2VwARjx"
      },
      "execution_count": 1,
      "outputs": []
    },
    {
      "cell_type": "code",
      "source": [
        "def conversionMs(x):\n",
        "    return round(x / 2000000, 3)\n",
        "\n",
        "DelayValues = [5, 5.5, 6, 6.5, 7, 7.5, 8, 8.5, 9, 9.5, 10, 10.5, 11, 11.5, 12, 12.5, 13, 13.5, 14, 14.5, 15]\n",
        "PDRValues = [0.5, 0.55, 0.6, 0.65, 0.7, 0.75, 0.8, 0.85, 0.9, 0.95, 1]\n",
        "\n",
        "DeviceID = [3]\n",
        "\n",
        "TTLValues = [2,3,4,5]\n",
        "TransmissionPowerValues = [1,3,6]\n",
        "TransmissionNumberValues = [1,3,5]\n",
        "IntervalTimeValues = [1,2,3,4,5]\n",
        "\n",
        "TTLValueSet = [2,3,4,5]\n",
        "TPValueSet = [1,3,6]\n",
        "TNValueSet = [1,3,5]\n",
        "TIValueSet = [1,2,3,4,5]"
      ],
      "metadata": {
        "id": "sJrhMa5gAbqE"
      },
      "execution_count": 2,
      "outputs": []
    },
    {
      "cell_type": "code",
      "source": [
        "# Caricare i dati di esempio\n",
        "data_performance = pd.read_csv(\"parameters_performance.csv\")\n",
        "data_pdr =  pd.read_csv(\"parameters_pdr.csv\")\n",
        "data_performance['Delay'] = data_performance['Delay'].apply(conversionMs)\n",
        "data_pdr['PDR'] = data_pdr['PDRReceived'] / data_pdr['PDRSend']\n",
        "dataset = pd.merge(data_performance, data_pdr, on=['TTL', 'TransmissionPower', 'TransmissionsNumber', 'IntervalTime', 'DeviceID'])"
      ],
      "metadata": {
        "id": "XCni1VnkAdTA"
      },
      "execution_count": 4,
      "outputs": []
    },
    {
      "cell_type": "code",
      "execution_count": 15,
      "metadata": {
        "colab": {
          "base_uri": "https://localhost:8080/"
        },
        "id": "qW6fQNQ7_Lik",
        "outputId": "1756048b-b37e-4e63-83b3-d2bb9aacef53"
      },
      "outputs": [
        {
          "output_type": "stream",
          "name": "stderr",
          "text": [
            "/usr/local/lib/python3.10/dist-packages/sklearn/utils/validation.py:1143: DataConversionWarning: A column-vector y was passed when a 1d array was expected. Please change the shape of y to (n_samples, ), for example using ravel().\n",
            "  y = column_or_1d(y, warn=True)\n"
          ]
        },
        {
          "output_type": "execute_result",
          "data": {
            "text/plain": [
              "['Models/01 NaiveBayes-Delay-Step1.joblib']"
            ]
          },
          "metadata": {},
          "execution_count": 15
        }
      ],
      "source": [
        "# Seleziona le feature di input e il target\n",
        "input_features = ['Delay', 'DeviceID']\n",
        "target_features = ['TTL']\n",
        "\n",
        "# Crea il dataset di training e testing con tutte le feature\n",
        "X = dataset[input_features]\n",
        "y = dataset[target_features]\n",
        "\n",
        "# Crea il modello per la previsione di tutti i target\n",
        "model = GaussianNB()\n",
        "model.fit(X, y)\n",
        "\n",
        "dump(model, 'Models/01 NaiveBayes-Delay-Step1.joblib')"
      ]
    },
    {
      "cell_type": "code",
      "source": [
        "# Seleziona le feature di input e il target\n",
        "input_features = ['Delay', 'DeviceID', 'TTL']\n",
        "target_features = ['TransmissionPower']\n",
        "\n",
        "# Crea il dataset di training e testing con tutte le feature\n",
        "X = dataset[input_features]\n",
        "y = dataset[target_features]\n",
        "\n",
        "# Crea il modello per la previsione di tutti i target\n",
        "model = GaussianNB()\n",
        "model.fit(X, y)\n",
        "\n",
        "dump(model, 'Models/01 NaiveBayes-Delay-Step2.joblib')"
      ],
      "metadata": {
        "colab": {
          "base_uri": "https://localhost:8080/"
        },
        "id": "w2F8QX2ZIwyo",
        "outputId": "8eb6598b-0706-40d9-b8ff-bf3b98f02e74"
      },
      "execution_count": 16,
      "outputs": [
        {
          "output_type": "stream",
          "name": "stderr",
          "text": [
            "/usr/local/lib/python3.10/dist-packages/sklearn/utils/validation.py:1143: DataConversionWarning: A column-vector y was passed when a 1d array was expected. Please change the shape of y to (n_samples, ), for example using ravel().\n",
            "  y = column_or_1d(y, warn=True)\n"
          ]
        },
        {
          "output_type": "execute_result",
          "data": {
            "text/plain": [
              "['Models/01 NaiveBayes-Delay-Step2.joblib']"
            ]
          },
          "metadata": {},
          "execution_count": 16
        }
      ]
    },
    {
      "cell_type": "code",
      "source": [
        "# Seleziona le feature di input e il target\n",
        "input_features = ['Delay', 'DeviceID', 'TTL', 'TransmissionPower']\n",
        "target_features = ['TransmissionsNumber']\n",
        "\n",
        "# Crea il dataset di training e testing con tutte le feature\n",
        "X = dataset[input_features]\n",
        "y = dataset[target_features]\n",
        "\n",
        "# Crea il modello per la previsione di tutti i target\n",
        "model = GaussianNB()\n",
        "model.fit(X, y)\n",
        "\n",
        "dump(model, 'Models/01 NaiveBayes-Delay-Step3.joblib')"
      ],
      "metadata": {
        "colab": {
          "base_uri": "https://localhost:8080/"
        },
        "id": "MPFI0hGwI3pW",
        "outputId": "94fa56e2-bcaa-4dd0-8acc-8319f29ce265"
      },
      "execution_count": 17,
      "outputs": [
        {
          "output_type": "stream",
          "name": "stderr",
          "text": [
            "/usr/local/lib/python3.10/dist-packages/sklearn/utils/validation.py:1143: DataConversionWarning: A column-vector y was passed when a 1d array was expected. Please change the shape of y to (n_samples, ), for example using ravel().\n",
            "  y = column_or_1d(y, warn=True)\n"
          ]
        },
        {
          "output_type": "execute_result",
          "data": {
            "text/plain": [
              "['Models/01 NaiveBayes-Delay-Step3.joblib']"
            ]
          },
          "metadata": {},
          "execution_count": 17
        }
      ]
    },
    {
      "cell_type": "code",
      "source": [
        "# Seleziona le feature di input e il target\n",
        "input_features = ['Delay', 'DeviceID', 'TTL', 'TransmissionPower', 'TransmissionsNumber']\n",
        "target_features = ['IntervalTime']\n",
        "\n",
        "# Crea il dataset di training e testing con tutte le feature\n",
        "X = dataset[input_features]\n",
        "y = dataset[target_features]\n",
        "\n",
        "# Crea il modello per la previsione di tutti i target\n",
        "model = GaussianNB()\n",
        "model.fit(X, y)\n",
        "\n",
        "dump(model, 'Models/01 NaiveBayes-Delay-Step4.joblib')"
      ],
      "metadata": {
        "colab": {
          "base_uri": "https://localhost:8080/"
        },
        "id": "xItPIny2JLxN",
        "outputId": "82d1f963-ada7-49fa-85c3-947458c3e327"
      },
      "execution_count": 19,
      "outputs": [
        {
          "output_type": "stream",
          "name": "stderr",
          "text": [
            "/usr/local/lib/python3.10/dist-packages/sklearn/utils/validation.py:1143: DataConversionWarning: A column-vector y was passed when a 1d array was expected. Please change the shape of y to (n_samples, ), for example using ravel().\n",
            "  y = column_or_1d(y, warn=True)\n"
          ]
        },
        {
          "output_type": "execute_result",
          "data": {
            "text/plain": [
              "['Models/01 NaiveBayes-Delay-Step4.joblib']"
            ]
          },
          "metadata": {},
          "execution_count": 19
        }
      ]
    },
    {
      "cell_type": "code",
      "source": [
        "# Carica il modello addestrato\n",
        "clf1 = load('Models/01 NaiveBayes-Delay-Step1.joblib')\n",
        "clf2 = load('Models/01 NaiveBayes-Delay-Step2.joblib')\n",
        "clf3 = load('Models/01 NaiveBayes-Delay-Step3.joblib')\n",
        "clf4 = load('Models/01 NaiveBayes-Delay-Step4.joblib')\n",
        "\n",
        "# Combinazione di tutti i parametri\n",
        "combinations = list(itertools.product(DelayValues, DeviceID))\n",
        "dataframeInput = pd.DataFrame(combinations)\n",
        "header = ['Delay', 'DeviceID']\n",
        "dataframeInput.columns = header\n",
        "\n",
        "prediction = clf1.predict(dataframeInput)\n",
        "output = []\n",
        "for index, inputRow in dataframeInput.iterrows():\n",
        "    row = []\n",
        "    DelayValue = float(inputRow['Delay'])\n",
        "    IDNodo = int(inputRow['DeviceID'])\n",
        "    TTL = min(TTLValueSet, key=lambda x: abs(x - prediction[index]))\n",
        "    row.append(DelayValue)\n",
        "    row.append(IDNodo)\n",
        "    row.append(TTL)\n",
        "    output.append(row)\n",
        "  \n",
        "dataframeOutputStep1 = pd.DataFrame(output)\n",
        "header = ['Delay', 'DeviceID', 'TTL']\n",
        "dataframeOutputStep1.columns = header\n",
        "\n",
        "prediction = clf2.predict(dataframeOutputStep1)\n",
        "output = []\n",
        "for index, inputRow in dataframeOutputStep1.iterrows():\n",
        "    row = []\n",
        "    DelayValue = float(inputRow['Delay'])\n",
        "    IDNodo = int(inputRow['DeviceID'])\n",
        "    TTL = int(inputRow['TTL'])\n",
        "    TransmissionPower =  min(TPValueSet, key=lambda x: abs(x - prediction[index]))\n",
        "    row.append(DelayValue)\n",
        "    row.append(IDNodo)\n",
        "    row.append(TTL)\n",
        "    row.append(TransmissionPower)\n",
        "    output.append(row)\n",
        "\n",
        "\n",
        "dataframeOutputStep2 = pd.DataFrame(output)\n",
        "header = ['Delay', 'DeviceID', 'TTL', 'TransmissionPower']\n",
        "dataframeOutputStep2.columns = header\n",
        "\n",
        "prediction = clf3.predict(dataframeOutputStep2)\n",
        "output = []\n",
        "for index, inputRow in dataframeOutputStep2.iterrows():\n",
        "    row = []\n",
        "    DelayValue = float(inputRow['Delay'])\n",
        "    IDNodo = int(inputRow['DeviceID'])\n",
        "    TTL = int(inputRow['TTL'])\n",
        "    TransmissionPower = int(inputRow['TransmissionPower'])\n",
        "    TransmissionsNumber =  min(TNValueSet, key=lambda x: abs(x - prediction[index]))\n",
        "    row.append(DelayValue)\n",
        "    row.append(IDNodo)\n",
        "    row.append(TTL)\n",
        "    row.append(TransmissionPower)\n",
        "    row.append(TransmissionsNumber)\n",
        "    output.append(row)\n",
        "\n",
        "dataframeOutputStep3 = pd.DataFrame(output)\n",
        "header = ['Delay', 'DeviceID', 'TTL', 'TransmissionPower', 'TransmissionsNumber']\n",
        "dataframeOutputStep3.columns = header\n",
        "\n",
        "prediction = clf4.predict(dataframeOutputStep3)\n",
        "output = []\n",
        "for index, inputRow in dataframeOutputStep3.iterrows():\n",
        "    row = []\n",
        "    DelayValue = float(inputRow['Delay'])\n",
        "    IDNodo = int(inputRow['DeviceID'])\n",
        "    TTL = int(inputRow['TTL'])\n",
        "    TransmissionPower = int(inputRow['TransmissionPower'])\n",
        "    TransmissionsNumber = int(inputRow['TransmissionsNumber'])\n",
        "    IntervalTime = min(TIValueSet, key=lambda x: abs(x - prediction[index]))\n",
        "    row.append(DelayValue)\n",
        "    row.append(IDNodo)\n",
        "    row.append(TTL)\n",
        "    row.append(TransmissionPower)\n",
        "    row.append(TransmissionsNumber)\n",
        "    row.append(IntervalTime)\n",
        "    output.append(row)\n",
        "\n",
        "dataframeOutputStep4 = pd.DataFrame(output)\n",
        "header = ['Delay', 'DeviceID', 'TTL', 'TransmissionPower', 'TransmissionsNumber', 'IntervalTime']\n",
        "dataframeOutputStep4.columns = header\n",
        "\n",
        "print(dataframeOutputStep4)\n",
        "\n",
        "dataframeOutputStep4.to_csv('Results/01 GaussinNB-Delay.csv', index=False)"
      ],
      "metadata": {
        "colab": {
          "base_uri": "https://localhost:8080/"
        },
        "id": "AdERNV-kJqvR",
        "outputId": "554d70a9-7bdd-46d2-f9c0-8d3ef0617939"
      },
      "execution_count": 30,
      "outputs": [
        {
          "output_type": "stream",
          "name": "stdout",
          "text": [
            "    Delay  DeviceID  TTL  TransmissionPower  TransmissionsNumber  IntervalTime\n",
            "0     5.0         3    5                  1                    1             5\n",
            "1     5.5         3    5                  1                    1             5\n",
            "2     6.0         3    5                  1                    1             5\n",
            "3     6.5         3    5                  1                    3             5\n",
            "4     7.0         3    5                  1                    3             5\n",
            "5     7.5         3    5                  1                    3             5\n",
            "6     8.0         3    5                  1                    3             2\n",
            "7     8.5         3    5                  1                    3             2\n",
            "8     9.0         3    5                  1                    3             2\n",
            "9     9.5         3    5                  1                    3             2\n",
            "10   10.0         3    4                  1                    3             2\n",
            "11   10.5         3    4                  1                    3             2\n",
            "12   11.0         3    4                  1                    3             2\n",
            "13   11.5         3    4                  1                    3             2\n",
            "14   12.0         3    4                  1                    3             2\n",
            "15   12.5         3    4                  1                    3             2\n",
            "16   13.0         3    4                  1                    3             2\n",
            "17   13.5         3    4                  1                    5             1\n",
            "18   14.0         3    4                  1                    5             1\n",
            "19   14.5         3    4                  1                    5             1\n",
            "20   15.0         3    4                  3                    5             1\n"
          ]
        }
      ]
    },
    {
      "cell_type": "markdown",
      "source": [
        "## PDR"
      ],
      "metadata": {
        "id": "i2K5iDgyPO9i"
      }
    },
    {
      "cell_type": "code",
      "source": [
        "# Seleziona le feature di input e il target\n",
        "input_features = ['PDR', 'DeviceID']\n",
        "target_features = ['TTL']\n",
        "\n",
        "# Crea il dataset di training e testing con tutte le feature\n",
        "X = dataset[input_features]\n",
        "y = dataset[target_features]\n",
        "\n",
        "# Crea il modello per la previsione di tutti i target\n",
        "model = GaussianNB()\n",
        "model.fit(X, y)\n",
        "\n",
        "dump(model, 'Models/02 NaiveBayes-PDR-Step1.joblib')\n",
        "\n",
        "\n",
        "\n",
        "# Seleziona le feature di input e il target\n",
        "input_features = ['PDR', 'DeviceID', 'TTL']\n",
        "target_features = ['TransmissionPower']\n",
        "\n",
        "# Crea il dataset di training e testing con tutte le feature\n",
        "X = dataset[input_features]\n",
        "y = dataset[target_features]\n",
        "\n",
        "# Crea il modello per la previsione di tutti i target\n",
        "model = GaussianNB()\n",
        "model.fit(X, y)\n",
        "\n",
        "dump(model, 'Models/02 NaiveBayes-PDR-Step2.joblib')\n",
        "\n",
        "\n",
        "\n",
        "# Seleziona le feature di input e il target\n",
        "input_features = ['PDR', 'DeviceID', 'TTL', 'TransmissionPower']\n",
        "target_features = ['TransmissionsNumber']\n",
        "\n",
        "# Crea il dataset di training e testing con tutte le feature\n",
        "X = dataset[input_features]\n",
        "y = dataset[target_features]\n",
        "\n",
        "# Crea il modello per la previsione di tutti i target\n",
        "model = GaussianNB()\n",
        "model.fit(X, y)\n",
        "\n",
        "dump(model, 'Models/02 NaiveBayes-PDR-Step3.joblib')\n",
        "\n",
        "\n",
        "\n",
        "# Seleziona le feature di input e il target\n",
        "input_features = ['PDR', 'DeviceID', 'TTL', 'TransmissionPower', 'TransmissionsNumber']\n",
        "target_features = ['IntervalTime']\n",
        "\n",
        "# Crea il dataset di training e testing con tutte le feature\n",
        "X = dataset[input_features]\n",
        "y = dataset[target_features]\n",
        "\n",
        "# Crea il modello per la previsione di tutti i target\n",
        "model = GaussianNB()\n",
        "model.fit(X, y)\n",
        "\n",
        "dump(model, 'Models/02 NaiveBayes-PDR-Step4.joblib')\n",
        "\n",
        "\n",
        "\n",
        "# Carica il modello addestrato\n",
        "clf1 = load('Models/02 NaiveBayes-PDR-Step1.joblib')\n",
        "clf2 = load('Models/02 NaiveBayes-PDR-Step2.joblib')\n",
        "clf3 = load('Models/02 NaiveBayes-PDR-Step3.joblib')\n",
        "clf4 = load('Models/02 NaiveBayes-PDR-Step4.joblib')\n",
        "\n",
        "# Combinazione di tutti i parametri\n",
        "combinations = list(itertools.product(DelayValues, DeviceID))\n",
        "dataframeInput = pd.DataFrame(combinations)\n",
        "header = ['PDR', 'DeviceID']\n",
        "dataframeInput.columns = header\n",
        "\n",
        "prediction = clf1.predict(dataframeInput)\n",
        "output = []\n",
        "for index, inputRow in dataframeInput.iterrows():\n",
        "    row = []\n",
        "    DelayValue = float(inputRow['PDR'])\n",
        "    IDNodo = int(inputRow['DeviceID'])\n",
        "    TTL = min(TTLValueSet, key=lambda x: abs(x - prediction[index]))\n",
        "    row.append(DelayValue)\n",
        "    row.append(IDNodo)\n",
        "    row.append(TTL)\n",
        "    output.append(row)\n",
        "  \n",
        "dataframeOutputStep1 = pd.DataFrame(output)\n",
        "header = ['PDR', 'DeviceID', 'TTL']\n",
        "dataframeOutputStep1.columns = header\n",
        "\n",
        "prediction = clf2.predict(dataframeOutputStep1)\n",
        "output = []\n",
        "for index, inputRow in dataframeOutputStep1.iterrows():\n",
        "    row = []\n",
        "    DelayValue = float(inputRow['PDR'])\n",
        "    IDNodo = int(inputRow['DeviceID'])\n",
        "    TTL = int(inputRow['TTL'])\n",
        "    TransmissionPower =  min(TPValueSet, key=lambda x: abs(x - prediction[index]))\n",
        "    row.append(DelayValue)\n",
        "    row.append(IDNodo)\n",
        "    row.append(TTL)\n",
        "    row.append(TransmissionPower)\n",
        "    output.append(row)\n",
        "\n",
        "\n",
        "dataframeOutputStep2 = pd.DataFrame(output)\n",
        "header = ['PDR', 'DeviceID', 'TTL', 'TransmissionPower']\n",
        "dataframeOutputStep2.columns = header\n",
        "\n",
        "prediction = clf3.predict(dataframeOutputStep2)\n",
        "output = []\n",
        "for index, inputRow in dataframeOutputStep2.iterrows():\n",
        "    row = []\n",
        "    DelayValue = float(inputRow['PDR'])\n",
        "    IDNodo = int(inputRow['DeviceID'])\n",
        "    TTL = int(inputRow['TTL'])\n",
        "    TransmissionPower = int(inputRow['TransmissionPower'])\n",
        "    TransmissionsNumber =  min(TNValueSet, key=lambda x: abs(x - prediction[index]))\n",
        "    row.append(DelayValue)\n",
        "    row.append(IDNodo)\n",
        "    row.append(TTL)\n",
        "    row.append(TransmissionPower)\n",
        "    row.append(TransmissionsNumber)\n",
        "    output.append(row)\n",
        "\n",
        "dataframeOutputStep3 = pd.DataFrame(output)\n",
        "header = ['PDR', 'DeviceID', 'TTL', 'TransmissionPower', 'TransmissionsNumber']\n",
        "dataframeOutputStep3.columns = header\n",
        "\n",
        "prediction = clf4.predict(dataframeOutputStep3)\n",
        "output = []\n",
        "for index, inputRow in dataframeOutputStep3.iterrows():\n",
        "    row = []\n",
        "    DelayValue = float(inputRow['PDR'])\n",
        "    IDNodo = int(inputRow['DeviceID'])\n",
        "    TTL = int(inputRow['TTL'])\n",
        "    TransmissionPower = int(inputRow['TransmissionPower'])\n",
        "    TransmissionsNumber = int(inputRow['TransmissionsNumber'])\n",
        "    IntervalTime = min(TIValueSet, key=lambda x: abs(x - prediction[index]))\n",
        "    row.append(DelayValue)\n",
        "    row.append(IDNodo)\n",
        "    row.append(TTL)\n",
        "    row.append(TransmissionPower)\n",
        "    row.append(TransmissionsNumber)\n",
        "    row.append(IntervalTime)\n",
        "    output.append(row)\n",
        "\n",
        "dataframeOutputStep4 = pd.DataFrame(output)\n",
        "header = ['PDR', 'DeviceID', 'TTL', 'TransmissionPower', 'TransmissionsNumber', 'IntervalTime']\n",
        "dataframeOutputStep4.columns = header\n",
        "\n",
        "print(dataframeOutputStep4)\n",
        "\n",
        "dataframeOutputStep4.to_csv('Results/01 GaussinNB-PDR.csv', index=False)"
      ],
      "metadata": {
        "colab": {
          "base_uri": "https://localhost:8080/"
        },
        "id": "ZTeHtkc2PQ0s",
        "outputId": "efdb425b-3d20-48fb-e002-489bfdc7a4bf"
      },
      "execution_count": 31,
      "outputs": [
        {
          "output_type": "stream",
          "name": "stdout",
          "text": [
            "     PDR  DeviceID  TTL  TransmissionPower  TransmissionsNumber  IntervalTime\n",
            "0    5.0         3    2                  1                    5             1\n",
            "1    5.5         3    2                  1                    5             1\n",
            "2    6.0         3    2                  1                    5             1\n",
            "3    6.5         3    2                  1                    5             1\n",
            "4    7.0         3    2                  1                    5             1\n",
            "5    7.5         3    2                  1                    5             1\n",
            "6    8.0         3    2                  1                    5             1\n",
            "7    8.5         3    2                  1                    5             1\n",
            "8    9.0         3    2                  1                    5             1\n",
            "9    9.5         3    2                  1                    5             1\n",
            "10  10.0         3    2                  1                    5             1\n",
            "11  10.5         3    2                  1                    5             1\n",
            "12  11.0         3    2                  1                    5             1\n",
            "13  11.5         3    2                  1                    5             1\n",
            "14  12.0         3    2                  1                    5             1\n",
            "15  12.5         3    2                  1                    5             1\n",
            "16  13.0         3    2                  1                    5             1\n",
            "17  13.5         3    2                  1                    5             1\n",
            "18  14.0         3    2                  1                    5             1\n",
            "19  14.5         3    2                  1                    5             1\n",
            "20  15.0         3    2                  1                    5             1\n"
          ]
        },
        {
          "output_type": "stream",
          "name": "stderr",
          "text": [
            "/usr/local/lib/python3.10/dist-packages/sklearn/utils/validation.py:1143: DataConversionWarning: A column-vector y was passed when a 1d array was expected. Please change the shape of y to (n_samples, ), for example using ravel().\n",
            "  y = column_or_1d(y, warn=True)\n",
            "/usr/local/lib/python3.10/dist-packages/sklearn/utils/validation.py:1143: DataConversionWarning: A column-vector y was passed when a 1d array was expected. Please change the shape of y to (n_samples, ), for example using ravel().\n",
            "  y = column_or_1d(y, warn=True)\n",
            "/usr/local/lib/python3.10/dist-packages/sklearn/utils/validation.py:1143: DataConversionWarning: A column-vector y was passed when a 1d array was expected. Please change the shape of y to (n_samples, ), for example using ravel().\n",
            "  y = column_or_1d(y, warn=True)\n",
            "/usr/local/lib/python3.10/dist-packages/sklearn/utils/validation.py:1143: DataConversionWarning: A column-vector y was passed when a 1d array was expected. Please change the shape of y to (n_samples, ), for example using ravel().\n",
            "  y = column_or_1d(y, warn=True)\n"
          ]
        }
      ]
    },
    {
      "cell_type": "code",
      "source": [
        "!zip -r ModelsGaussianNB.zip Models\n",
        "!zip -r ResultsGaussianNB.zip Results"
      ],
      "metadata": {
        "colab": {
          "base_uri": "https://localhost:8080/"
        },
        "id": "PGi7B6tJRtAY",
        "outputId": "18b0a9dd-67a9-4718-9147-57d958b6aa44"
      },
      "execution_count": 32,
      "outputs": [
        {
          "output_type": "stream",
          "name": "stdout",
          "text": [
            "  adding: Models/ (stored 0%)\n",
            "  adding: Models/02 NaiveBayes-PDR-Step4.joblib (deflated 29%)\n",
            "  adding: Models/01 NaiveBayes-Delay-Step4.joblib (deflated 29%)\n",
            "  adding: Models/01 NaiveBayes-Delay-Step2.joblib (deflated 34%)\n",
            "  adding: Models/01 NaiveBayes-Delay-Step3.joblib (deflated 32%)\n",
            "  adding: Models/02 NaiveBayes-PDR-Step2.joblib (deflated 33%)\n",
            "  adding: Models/02 NaiveBayes-PDR-Step3.joblib (deflated 32%)\n",
            "  adding: Models/01 NaiveBayes-Delay-Step1.joblib (deflated 33%)\n",
            "  adding: Models/02 NaiveBayes-PDR-Step1.joblib (deflated 34%)\n",
            "  adding: Models/.ipynb_checkpoints/ (stored 0%)\n",
            "  adding: Results/ (stored 0%)\n",
            "  adding: Results/01 GaussinNB-PDR.csv (deflated 68%)\n",
            "  adding: Results/01 GaussinNB-Delay.csv (deflated 63%)\n"
          ]
        }
      ]
    }
  ]
}