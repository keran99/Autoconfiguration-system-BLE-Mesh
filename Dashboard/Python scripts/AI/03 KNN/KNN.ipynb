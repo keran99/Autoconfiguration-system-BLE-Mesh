{
  "nbformat": 4,
  "nbformat_minor": 0,
  "metadata": {
    "colab": {
      "provenance": [],
      "collapsed_sections": [
        "cj8ZEH_WLIAy",
        "i-Y-XfhULNm_",
        "R8qBwaKuLTuO",
        "_jRqOMoFXpOo",
        "YEUB2woxWPx9",
        "3Ml0YCknWcho",
        "DRDnjZs9WglK",
        "ETO_9sPoWsrM",
        "3mN1CZgiW37l",
        "K3AMIXvZXMfZ",
        "FxibtxP9Xift",
        "XErEq0I5XnmC",
        "PNld-7bxYAUa",
        "GBIdYqxeb7CQ",
        "-lIF_VUXcQ37",
        "gllm7_vVdx8r",
        "hISOG8cFd_gs",
        "uiUNUJv8eSEb",
        "9H4eWj6oeUOy",
        "woSsQoUtemDF",
        "yepKi9CUe4bD",
        "GMnQH-YAfGbT"
      ]
    },
    "kernelspec": {
      "name": "python3",
      "display_name": "Python 3"
    },
    "language_info": {
      "name": "python"
    }
  },
  "cells": [
    {
      "cell_type": "markdown",
      "source": [
        "# KNN"
      ],
      "metadata": {
        "id": "a_4_6_k8S2_-"
      }
    },
    {
      "cell_type": "markdown",
      "source": [
        "## Imports"
      ],
      "metadata": {
        "id": "cj8ZEH_WLIAy"
      }
    },
    {
      "cell_type": "code",
      "execution_count": 1,
      "metadata": {
        "id": "YCmB9JuOJPaG"
      },
      "outputs": [],
      "source": [
        "from sklearn.neighbors import KNeighborsClassifier\n",
        "from sklearn.preprocessing import StandardScaler\n",
        "import pandas as pd\n",
        "from joblib import dump, load\n",
        "import itertools"
      ]
    },
    {
      "cell_type": "markdown",
      "source": [
        "## Functions"
      ],
      "metadata": {
        "id": "i-Y-XfhULNm_"
      }
    },
    {
      "cell_type": "code",
      "source": [
        "def conversionMs(x):\n",
        "    return round(x / 2000000, 3)\n",
        "\n",
        "#DelayValues = [5, 5.5, 6, 6.5, 7, 7.5, 8, 8.5, 9, 9.5, 10, 10.5]\n",
        "#PDRValues = [0.7, 0.8, 0.9, 1]\n",
        "\n",
        "DelayValues = [5, 5.5, 6, 6.5, 7, 7.5, 8, 8.5, 9, 9.5, 10, 10.5, 11, 11.5, 12, 12.5, 13, 13.5, 14, 14.5, 15]\n",
        "PDRValues = [0.5, 0.55, 0.6, 0.65, 0.7, 0.75, 0.8, 0.85, 0.9, 0.95, 1]\n",
        "\n",
        "IDNodos = [3]\n",
        "\n",
        "TTLValues = [2,3,4,5]\n",
        "TransmissionPowerValues = [1,3,6]\n",
        "TransmissionNumberValues = [1,3,5]\n",
        "IntervalTimeValues = [1,2,3,4,5]"
      ],
      "metadata": {
        "id": "8se7nzMKLRUL"
      },
      "execution_count": 2,
      "outputs": []
    },
    {
      "cell_type": "markdown",
      "source": [
        "## Dataset"
      ],
      "metadata": {
        "id": "R8qBwaKuLTuO"
      }
    },
    {
      "cell_type": "code",
      "source": [
        "# Caricare i dati di esempio\n",
        "data_performance = pd.read_csv(\"parameters_performance.csv\")\n",
        "data_pdr =  pd.read_csv(\"parameters_pdr.csv\")\n",
        "data_performance['Delay'] = data_performance['Delay'].apply(conversionMs)\n",
        "data_pdr['PDR'] = data_pdr['PDRReceived'] / data_pdr['PDRSend']\n",
        "dataset = pd.merge(data_performance, data_pdr, on=['TTL', 'TransmissionPower', 'TransmissionsNumber', 'IntervalTime', 'DeviceID'])"
      ],
      "metadata": {
        "id": "klanw4JjLXhX"
      },
      "execution_count": 3,
      "outputs": []
    },
    {
      "cell_type": "markdown",
      "source": [
        "## KNN model creation"
      ],
      "metadata": {
        "id": "Nl5D_dJ8Leie"
      }
    },
    {
      "cell_type": "markdown",
      "source": [
        "### KNN model creation - Predictor of 5 variables"
      ],
      "metadata": {
        "id": "aIOie-5iXWiE"
      }
    },
    {
      "cell_type": "markdown",
      "source": [
        "#### Delay - DeviceID"
      ],
      "metadata": {
        "id": "QVe4yUqSXePK"
      }
    },
    {
      "cell_type": "code",
      "source": [
        "# selezionare le colonne di input e di output\n",
        "input_cols = [\"Delay\", \"DeviceID\"]\n",
        "output_cols = [\"TTL\", \"TransmissionPower\", \"TransmissionsNumber\", \"IntervalTime\"]\n",
        "\n",
        "# dividi le colonne di input e di output\n",
        "X = dataset[input_cols]\n",
        "y = dataset[output_cols]\n",
        "\n",
        "# applicare la Standard Scaler alle colonne di input\n",
        "scaler = StandardScaler()\n",
        "X_scaled = scaler.fit_transform(X)\n",
        "\n",
        "# creare il modello di Decision Tree e addestrarlo\n",
        "model = KNeighborsClassifier()\n",
        "model.fit(X_scaled, y)\n",
        "\n",
        "# Salva il modello su file\n",
        "dump(model, 'Models/01 KNN-Delay.joblib')"
      ],
      "metadata": {
        "id": "tw4qA-qhXcCu",
        "colab": {
          "base_uri": "https://localhost:8080/"
        },
        "outputId": "439bc4a7-23ea-4e2d-8e13-36192875527b"
      },
      "execution_count": 4,
      "outputs": [
        {
          "output_type": "execute_result",
          "data": {
            "text/plain": [
              "['Models/01 KNN-Delay.joblib']"
            ]
          },
          "metadata": {},
          "execution_count": 4
        }
      ]
    },
    {
      "cell_type": "markdown",
      "source": [
        "#### PDR - DeviceID"
      ],
      "metadata": {
        "id": "_jRqOMoFXpOo"
      }
    },
    {
      "cell_type": "code",
      "source": [
        "# selezionare le colonne di input e di output\n",
        "input_cols = [\"PDR\", \"DeviceID\"]\n",
        "output_cols = [\"TTL\", \"TransmissionPower\", \"TransmissionsNumber\", \"IntervalTime\"]\n",
        "\n",
        "# dividi le colonne di input e di output\n",
        "X = dataset[input_cols]\n",
        "y = dataset[output_cols]\n",
        "\n",
        "# applicare la Standard Scaler alle colonne di input\n",
        "scaler = StandardScaler()\n",
        "X_scaled = scaler.fit_transform(X)\n",
        "\n",
        "# creare il modello di Decision Tree e addestrarlo\n",
        "model = KNeighborsClassifier()\n",
        "model.fit(X_scaled, y)\n",
        "\n",
        "# Salva il modello su file\n",
        "dump(model, 'Models/02 KNN-PDR.joblib')"
      ],
      "metadata": {
        "id": "fUD3kBfHXsmf",
        "colab": {
          "base_uri": "https://localhost:8080/"
        },
        "outputId": "bba3bb49-a6c4-4f0a-c51b-e828ac00edeb"
      },
      "execution_count": 5,
      "outputs": [
        {
          "output_type": "execute_result",
          "data": {
            "text/plain": [
              "['Models/02 KNN-PDR.joblib']"
            ]
          },
          "metadata": {},
          "execution_count": 5
        }
      ]
    },
    {
      "cell_type": "markdown",
      "source": [
        "### KNN model creation - Predictor of 4 variables"
      ],
      "metadata": {
        "id": "YEUB2woxWPx9"
      }
    },
    {
      "cell_type": "code",
      "source": [
        "# selezionare le colonne di input e di output\n",
        "input_cols = [\"Delay\", \"PDR\", \"DeviceID\"]\n",
        "output_cols = [\"TTL\", \"TransmissionPower\", \"TransmissionsNumber\", \"IntervalTime\"]\n",
        "\n",
        "# dividi le colonne di input e di output\n",
        "X = dataset[input_cols]\n",
        "y = dataset[output_cols]\n",
        "\n",
        "# applicare la Standard Scaler alle colonne di input\n",
        "scaler = StandardScaler()\n",
        "X_scaled = scaler.fit_transform(X)\n",
        "\n",
        "# creare il modello di Decision Tree e addestrarlo\n",
        "model = KNeighborsClassifier()\n",
        "model.fit(X_scaled, y)\n",
        "\n",
        "# Salva il modello su file\n",
        "dump(model, 'Models/03 KNN.joblib')"
      ],
      "metadata": {
        "colab": {
          "base_uri": "https://localhost:8080/"
        },
        "id": "RbqhljkKLk-K",
        "outputId": "54d59fce-9210-4644-ed52-ce8fcee62956"
      },
      "execution_count": 6,
      "outputs": [
        {
          "output_type": "execute_result",
          "data": {
            "text/plain": [
              "['Models/03 KNN.joblib']"
            ]
          },
          "metadata": {},
          "execution_count": 6
        }
      ]
    },
    {
      "cell_type": "markdown",
      "source": [
        "### KNN model creation - Predictor of 3 variables"
      ],
      "metadata": {
        "id": "3Ml0YCknWcho"
      }
    },
    {
      "cell_type": "markdown",
      "source": [
        "#### Delay - PDR - DeviceID - TTL"
      ],
      "metadata": {
        "id": "DRDnjZs9WglK"
      }
    },
    {
      "cell_type": "code",
      "source": [
        "# selezionare le colonne di input e di output\n",
        "input_cols = [\"Delay\", \"PDR\", \"DeviceID\", \"TTL\"]\n",
        "output_cols = [\"TransmissionPower\", \"TransmissionsNumber\", \"IntervalTime\"]\n",
        "\n",
        "# dividi le colonne di input e di output\n",
        "X = dataset[input_cols]\n",
        "y = dataset[output_cols]\n",
        "\n",
        "# applicare la Standard Scaler alle colonne di input\n",
        "scaler = StandardScaler()\n",
        "X_scaled = scaler.fit_transform(X)\n",
        "\n",
        "# creare il modello di Decision Tree e addestrarlo\n",
        "model = KNeighborsClassifier()\n",
        "model.fit(X_scaled, y)\n",
        "\n",
        "# Salva il modello su file\n",
        "dump(model, 'Models/04 KNN-TTL.joblib')"
      ],
      "metadata": {
        "colab": {
          "base_uri": "https://localhost:8080/"
        },
        "id": "wMAuX8auWban",
        "outputId": "03588cea-ee23-457b-84d8-afb7eb611152"
      },
      "execution_count": 7,
      "outputs": [
        {
          "output_type": "execute_result",
          "data": {
            "text/plain": [
              "['Models/04 KNN-TTL.joblib']"
            ]
          },
          "metadata": {},
          "execution_count": 7
        }
      ]
    },
    {
      "cell_type": "markdown",
      "source": [
        "#### Delay - PDR - DeviceID - TransmissionPower"
      ],
      "metadata": {
        "id": "ETO_9sPoWsrM"
      }
    },
    {
      "cell_type": "code",
      "source": [
        "# selezionare le colonne di input e di output\n",
        "input_cols = [\"Delay\", \"PDR\", \"DeviceID\", \"TransmissionPower\"]\n",
        "output_cols = [\"TTL\", \"TransmissionsNumber\", \"IntervalTime\"]\n",
        "\n",
        "# dividi le colonne di input e di output\n",
        "X = dataset[input_cols]\n",
        "y = dataset[output_cols]\n",
        "\n",
        "# applicare la Standard Scaler alle colonne di input\n",
        "scaler = StandardScaler()\n",
        "X_scaled = scaler.fit_transform(X)\n",
        "\n",
        "# creare il modello di Decision Tree e addestrarlo\n",
        "model = KNeighborsClassifier()\n",
        "model.fit(X_scaled, y)\n",
        "\n",
        "# Salva il modello su file\n",
        "dump(model, 'Models/05 KNN-TransmissionPower.joblib')"
      ],
      "metadata": {
        "colab": {
          "base_uri": "https://localhost:8080/"
        },
        "id": "qvZO4mTyWvvW",
        "outputId": "bff7dc38-3e24-476b-a1f7-fe409004c3c8"
      },
      "execution_count": 8,
      "outputs": [
        {
          "output_type": "execute_result",
          "data": {
            "text/plain": [
              "['Models/05 KNN-TransmissionPower.joblib']"
            ]
          },
          "metadata": {},
          "execution_count": 8
        }
      ]
    },
    {
      "cell_type": "markdown",
      "source": [
        "#### Delay - PDR - TransmissionsNumber"
      ],
      "metadata": {
        "id": "3mN1CZgiW37l"
      }
    },
    {
      "cell_type": "code",
      "source": [
        "# selezionare le colonne di input e di output\n",
        "input_cols = [\"Delay\", \"PDR\", \"DeviceID\", \"TransmissionsNumber\"]\n",
        "output_cols = [\"TTL\", \"TransmissionPower\", \"IntervalTime\"]\n",
        "\n",
        "# dividi le colonne di input e di output\n",
        "X = dataset[input_cols]\n",
        "y = dataset[output_cols]\n",
        "\n",
        "# applicare la Standard Scaler alle colonne di input\n",
        "scaler = StandardScaler()\n",
        "X_scaled = scaler.fit_transform(X)\n",
        "\n",
        "# creare il modello di Decision Tree e addestrarlo\n",
        "model = KNeighborsClassifier()\n",
        "model.fit(X_scaled, y)\n",
        "\n",
        "# Salva il modello su file\n",
        "dump(model, 'Models/06 KNN-TransmissionsNumber.joblib')"
      ],
      "metadata": {
        "colab": {
          "base_uri": "https://localhost:8080/"
        },
        "id": "_fTF5v3QW6qj",
        "outputId": "e8eb00ad-dae2-4cfd-be0d-548d6f70f74c"
      },
      "execution_count": 9,
      "outputs": [
        {
          "output_type": "execute_result",
          "data": {
            "text/plain": [
              "['Models/06 KNN-TransmissionsNumber.joblib']"
            ]
          },
          "metadata": {},
          "execution_count": 9
        }
      ]
    },
    {
      "cell_type": "markdown",
      "source": [
        "#### Delay - PDR - DeviceID - IntervalTime"
      ],
      "metadata": {
        "id": "K3AMIXvZXMfZ"
      }
    },
    {
      "cell_type": "code",
      "source": [
        "# selezionare le colonne di input e di output\n",
        "input_cols = [\"Delay\", \"PDR\", \"DeviceID\", \"IntervalTime\"]\n",
        "output_cols = [\"TTL\", \"TransmissionPower\", \"TransmissionsNumber\"]\n",
        "\n",
        "# dividi le colonne di input e di output\n",
        "X = dataset[input_cols]\n",
        "y = dataset[output_cols]\n",
        "\n",
        "# applicare la Standard Scaler alle colonne di input\n",
        "scaler = StandardScaler()\n",
        "X_scaled = scaler.fit_transform(X)\n",
        "\n",
        "# creare il modello di Decision Tree e addestrarlo\n",
        "model = KNeighborsClassifier()\n",
        "model.fit(X_scaled, y)\n",
        "\n",
        "# Salva il modello su file\n",
        "dump(model, 'Models/07 KNN-IntervalTime.joblib')"
      ],
      "metadata": {
        "colab": {
          "base_uri": "https://localhost:8080/"
        },
        "id": "3mSvGELzXPPc",
        "outputId": "6b06ab4f-baa3-4064-e554-43f5bfdf07c5"
      },
      "execution_count": 10,
      "outputs": [
        {
          "output_type": "execute_result",
          "data": {
            "text/plain": [
              "['Models/07 KNN-IntervalTime.joblib']"
            ]
          },
          "metadata": {},
          "execution_count": 10
        }
      ]
    },
    {
      "cell_type": "markdown",
      "source": [
        "### KNN model creation - Predictor of 2 variables"
      ],
      "metadata": {
        "id": "FxibtxP9Xift"
      }
    },
    {
      "cell_type": "markdown",
      "source": [
        "#### Delay - PDR - DeviceID- TTL - TransmissionPower"
      ],
      "metadata": {
        "id": "XErEq0I5XnmC"
      }
    },
    {
      "cell_type": "code",
      "source": [
        "# selezionare le colonne di input e di output\n",
        "input_cols = [\"Delay\", \"PDR\", \"DeviceID\", \"TTL\", \"TransmissionPower\"]\n",
        "output_cols = [\"TransmissionsNumber\", \"IntervalTime\"]\n",
        "\n",
        "# dividi le colonne di input e di output\n",
        "X = dataset[input_cols]\n",
        "y = dataset[output_cols]\n",
        "\n",
        "# applicare la Standard Scaler alle colonne di input\n",
        "scaler = StandardScaler()\n",
        "X_scaled = scaler.fit_transform(X)\n",
        "\n",
        "# creare il modello di Decision Tree e addestrarlo\n",
        "model = KNeighborsClassifier()\n",
        "model.fit(X_scaled, y)\n",
        "\n",
        "# Salva il modello su file\n",
        "dump(model, 'Models/08 KNN-TTL-TransmissionPower.joblib')"
      ],
      "metadata": {
        "colab": {
          "base_uri": "https://localhost:8080/"
        },
        "id": "UYRyP6QjXq9g",
        "outputId": "b22e1019-63f1-4b84-996a-7bbe98703593"
      },
      "execution_count": 11,
      "outputs": [
        {
          "output_type": "execute_result",
          "data": {
            "text/plain": [
              "['Models/08 KNN-TTL-TransmissionPower.joblib']"
            ]
          },
          "metadata": {},
          "execution_count": 11
        }
      ]
    },
    {
      "cell_type": "markdown",
      "source": [
        "#### Delay - PDR - DeviceID- TTL - TransmissionsNumber"
      ],
      "metadata": {
        "id": "PNld-7bxYAUa"
      }
    },
    {
      "cell_type": "code",
      "source": [
        "# selezionare le colonne di input e di output\n",
        "input_cols = [\"Delay\", \"PDR\", \"DeviceID\", \"TTL\", \"TransmissionsNumber\"]\n",
        "output_cols = [\"TransmissionPower\", \"IntervalTime\"]\n",
        "\n",
        "# dividi le colonne di input e di output\n",
        "X = dataset[input_cols]\n",
        "y = dataset[output_cols]\n",
        "\n",
        "# applicare la Standard Scaler alle colonne di input\n",
        "scaler = StandardScaler()\n",
        "X_scaled = scaler.fit_transform(X)\n",
        "\n",
        "# creare il modello di Decision Tree e addestrarlo\n",
        "model = KNeighborsClassifier()\n",
        "model.fit(X_scaled, y)\n",
        "\n",
        "# Salva il modello su file\n",
        "dump(model, 'Models/09 KNN-TTL-TransmissionsNumber.joblib')"
      ],
      "metadata": {
        "colab": {
          "base_uri": "https://localhost:8080/"
        },
        "id": "iKjMhDoKYCyU",
        "outputId": "b44b1ff0-2e11-487a-a1c1-894bf0a0f14c"
      },
      "execution_count": 12,
      "outputs": [
        {
          "output_type": "execute_result",
          "data": {
            "text/plain": [
              "['Models/09 KNN-TTL-TransmissionsNumber.joblib']"
            ]
          },
          "metadata": {},
          "execution_count": 12
        }
      ]
    },
    {
      "cell_type": "markdown",
      "source": [
        "#### Delay - PDR - DeviceID - TTL - IntervalTime"
      ],
      "metadata": {
        "id": "GBIdYqxeb7CQ"
      }
    },
    {
      "cell_type": "code",
      "source": [
        "# selezionare le colonne di input e di output\n",
        "input_cols = [\"Delay\", \"PDR\", \"DeviceID\", \"TTL\", \"IntervalTime\"]\n",
        "output_cols = [\"TransmissionPower\", \"TransmissionsNumber\"]\n",
        "\n",
        "# dividi le colonne di input e di output\n",
        "X = dataset[input_cols]\n",
        "y = dataset[output_cols]\n",
        "\n",
        "# applicare la Standard Scaler alle colonne di input\n",
        "scaler = StandardScaler()\n",
        "X_scaled = scaler.fit_transform(X)\n",
        "\n",
        "# creare il modello di Decision Tree e addestrarlo\n",
        "model = KNeighborsClassifier()\n",
        "model.fit(X_scaled, y)\n",
        "\n",
        "# Salva il modello su file\n",
        "dump(model, 'Models/10 KNN-TTL-IntervalTime.joblib')"
      ],
      "metadata": {
        "colab": {
          "base_uri": "https://localhost:8080/"
        },
        "id": "jOx_TpOIcDz5",
        "outputId": "d3b15623-246f-4ce4-93eb-f5278f331724"
      },
      "execution_count": 13,
      "outputs": [
        {
          "output_type": "execute_result",
          "data": {
            "text/plain": [
              "['Models/10 KNN-TTL-IntervalTime.joblib']"
            ]
          },
          "metadata": {},
          "execution_count": 13
        }
      ]
    },
    {
      "cell_type": "markdown",
      "source": [
        "#### Delay - PDR - DeviceID - TransmissionPower - TransmissionsNumber"
      ],
      "metadata": {
        "id": "-lIF_VUXcQ37"
      }
    },
    {
      "cell_type": "code",
      "source": [
        "# selezionare le colonne di input e di output\n",
        "input_cols = [\"Delay\", \"PDR\", \"DeviceID\", \"TransmissionPower\", \"TransmissionsNumber\"]\n",
        "output_cols = [\"TTL\", \"IntervalTime\"]\n",
        "\n",
        "# dividi le colonne di input e di output\n",
        "X = dataset[input_cols]\n",
        "y = dataset[output_cols]\n",
        "\n",
        "# applicare la Standard Scaler alle colonne di input\n",
        "scaler = StandardScaler()\n",
        "X_scaled = scaler.fit_transform(X)\n",
        "\n",
        "# creare il modello di Decision Tree e addestrarlo\n",
        "model = KNeighborsClassifier()\n",
        "model.fit(X_scaled, y)\n",
        "\n",
        "# Salva il modello su file\n",
        "dump(model, 'Models/11 KNN-TransmissionPower-TransmissionsNumber.joblib')"
      ],
      "metadata": {
        "colab": {
          "base_uri": "https://localhost:8080/"
        },
        "id": "CJwosy_KcTG4",
        "outputId": "e48a22ad-0d2e-457a-dfd4-4444c03b5c5d"
      },
      "execution_count": 14,
      "outputs": [
        {
          "output_type": "execute_result",
          "data": {
            "text/plain": [
              "['Models/11 KNN-TransmissionPower-TransmissionsNumber.joblib']"
            ]
          },
          "metadata": {},
          "execution_count": 14
        }
      ]
    },
    {
      "cell_type": "markdown",
      "source": [
        "#### Delay - PDR - TransmissionPower - IntervalTimea"
      ],
      "metadata": {
        "id": "gllm7_vVdx8r"
      }
    },
    {
      "cell_type": "code",
      "source": [
        "# selezionare le colonne di input e di output\n",
        "input_cols = [\"Delay\", \"PDR\", \"DeviceID\", \"TransmissionPower\", \"IntervalTime\"]\n",
        "output_cols = [\"TTL\", \"TransmissionsNumber\"]\n",
        "\n",
        "# dividi le colonne di input e di output\n",
        "X = dataset[input_cols]\n",
        "y = dataset[output_cols]\n",
        "\n",
        "# applicare la Standard Scaler alle colonne di input\n",
        "scaler = StandardScaler()\n",
        "X_scaled = scaler.fit_transform(X)\n",
        "\n",
        "# creare il modello di Decision Tree e addestrarlo\n",
        "model = KNeighborsClassifier()\n",
        "model.fit(X_scaled, y)\n",
        "\n",
        "# Salva il modello su file\n",
        "dump(model, 'Models/12 KNN-TransmissionPower-IntervalTime.joblib')"
      ],
      "metadata": {
        "colab": {
          "base_uri": "https://localhost:8080/"
        },
        "id": "vHVzXJT1d0pF",
        "outputId": "e01a07b8-b478-410f-a0f2-653625b58236"
      },
      "execution_count": 15,
      "outputs": [
        {
          "output_type": "execute_result",
          "data": {
            "text/plain": [
              "['Models/12 KNN-TransmissionPower-IntervalTime.joblib']"
            ]
          },
          "metadata": {},
          "execution_count": 15
        }
      ]
    },
    {
      "cell_type": "markdown",
      "source": [
        "#### Delay - PDR - DeviceID - TransmissionsNumber - IntervalTime"
      ],
      "metadata": {
        "id": "hISOG8cFd_gs"
      }
    },
    {
      "cell_type": "code",
      "source": [
        "# selezionare le colonne di input e di output\n",
        "input_cols = [\"Delay\", \"PDR\", \"DeviceID\", \"TransmissionsNumber\", \"IntervalTime\"]\n",
        "output_cols = [\"TTL\", \"TransmissionPower\"]\n",
        "\n",
        "# dividi le colonne di input e di output\n",
        "X = dataset[input_cols]\n",
        "y = dataset[output_cols]\n",
        "\n",
        "# applicare la Standard Scaler alle colonne di input\n",
        "scaler = StandardScaler()\n",
        "X_scaled = scaler.fit_transform(X)\n",
        "\n",
        "# creare il modello di Decision Tree e addestrarlo\n",
        "model = KNeighborsClassifier()\n",
        "model.fit(X_scaled, y)\n",
        "\n",
        "# Salva il modello su file\n",
        "dump(model, 'Models/13 KNN-TransmissionsNumber-IntervalTime.joblib')"
      ],
      "metadata": {
        "colab": {
          "base_uri": "https://localhost:8080/"
        },
        "id": "M3YBt3KQeDfm",
        "outputId": "01e2309c-7390-4cf7-f712-668ce351b5fa"
      },
      "execution_count": 16,
      "outputs": [
        {
          "output_type": "execute_result",
          "data": {
            "text/plain": [
              "['Models/13 KNN-TransmissionsNumber-IntervalTime.joblib']"
            ]
          },
          "metadata": {},
          "execution_count": 16
        }
      ]
    },
    {
      "cell_type": "markdown",
      "source": [
        "### KNN Model Creation - Predictior of 1 variable"
      ],
      "metadata": {
        "id": "uiUNUJv8eSEb"
      }
    },
    {
      "cell_type": "markdown",
      "source": [
        "#### Delay - PDR - DeviceID - TTL - TransmissionPower - TransmissionsNumber"
      ],
      "metadata": {
        "id": "9H4eWj6oeUOy"
      }
    },
    {
      "cell_type": "code",
      "source": [
        "# selezionare le colonne di input e di output\n",
        "input_cols = [\"Delay\", \"PDR\", \"DeviceID\", \"TTL\", \"TransmissionPower\", \"TransmissionsNumber\"]\n",
        "output_cols = [\"IntervalTime\"]\n",
        "\n",
        "# dividi le colonne di input e di output\n",
        "X = dataset[input_cols]\n",
        "y = dataset[output_cols]\n",
        "\n",
        "# applicare la Standard Scaler alle colonne di input\n",
        "scaler = StandardScaler()\n",
        "X_scaled = scaler.fit_transform(X)\n",
        "\n",
        "# creare il modello di Decision Tree e addestrarlo\n",
        "model = KNeighborsClassifier()\n",
        "model.fit(X_scaled, y)\n",
        "\n",
        "# Salva il modello su file\n",
        "dump(model, 'Models/14 KNN-TTL-TransmissionPower-TransmissionsNumber.joblib')"
      ],
      "metadata": {
        "colab": {
          "base_uri": "https://localhost:8080/"
        },
        "id": "W6xCNZGOeYIl",
        "outputId": "d86364ed-47b0-411d-ae9e-37d0925e2a3c"
      },
      "execution_count": 17,
      "outputs": [
        {
          "output_type": "stream",
          "name": "stderr",
          "text": [
            "/usr/local/lib/python3.9/dist-packages/sklearn/neighbors/_classification.py:215: DataConversionWarning: A column-vector y was passed when a 1d array was expected. Please change the shape of y to (n_samples,), for example using ravel().\n",
            "  return self._fit(X, y)\n"
          ]
        },
        {
          "output_type": "execute_result",
          "data": {
            "text/plain": [
              "['Models/14 KNN-TTL-TransmissionPower-TransmissionsNumber.joblib']"
            ]
          },
          "metadata": {},
          "execution_count": 17
        }
      ]
    },
    {
      "cell_type": "markdown",
      "source": [
        "#### Delay - PDR - DeviceID - TTL - TransmissionPower - IntervalTime"
      ],
      "metadata": {
        "id": "woSsQoUtemDF"
      }
    },
    {
      "cell_type": "code",
      "source": [
        "# selezionare le colonne di input e di output\n",
        "input_cols = [\"Delay\", \"PDR\", \"DeviceID\", \"TTL\", \"TransmissionPower\", \"IntervalTime\"]\n",
        "output_cols = [\"TransmissionsNumber\"]\n",
        "\n",
        "# dividi le colonne di input e di output\n",
        "X = dataset[input_cols]\n",
        "y = dataset[output_cols]\n",
        "\n",
        "# applicare la Standard Scaler alle colonne di input\n",
        "scaler = StandardScaler()\n",
        "X_scaled = scaler.fit_transform(X)\n",
        "\n",
        "# creare il modello di Decision Tree e addestrarlo\n",
        "model = KNeighborsClassifier()\n",
        "model.fit(X_scaled, y)\n",
        "\n",
        "# Salva il modello su file\n",
        "dump(model, 'Models/15 KNN-TTL-TransmissionPower-IntervalTime.joblib')"
      ],
      "metadata": {
        "colab": {
          "base_uri": "https://localhost:8080/"
        },
        "id": "VWuJfxeVeojZ",
        "outputId": "68a26ab9-3ec8-433c-ee0e-aae890fd53ac"
      },
      "execution_count": 18,
      "outputs": [
        {
          "output_type": "stream",
          "name": "stderr",
          "text": [
            "/usr/local/lib/python3.9/dist-packages/sklearn/neighbors/_classification.py:215: DataConversionWarning: A column-vector y was passed when a 1d array was expected. Please change the shape of y to (n_samples,), for example using ravel().\n",
            "  return self._fit(X, y)\n"
          ]
        },
        {
          "output_type": "execute_result",
          "data": {
            "text/plain": [
              "['Models/15 KNN-TTL-TransmissionPower-IntervalTime.joblib']"
            ]
          },
          "metadata": {},
          "execution_count": 18
        }
      ]
    },
    {
      "cell_type": "markdown",
      "source": [
        "#### Delay - PDR - DeviceID - TTL - TransmissionsNumber - IntervalTime"
      ],
      "metadata": {
        "id": "yepKi9CUe4bD"
      }
    },
    {
      "cell_type": "code",
      "source": [
        "# selezionare le colonne di input e di output\n",
        "input_cols = [\"Delay\", \"PDR\", \"DeviceID\", \"TTL\", \"TransmissionsNumber\", \"IntervalTime\"]\n",
        "output_cols = [\"TransmissionPower\"]\n",
        "\n",
        "# dividi le colonne di input e di output\n",
        "X = dataset[input_cols]\n",
        "y = dataset[output_cols]\n",
        "\n",
        "# applicare la Standard Scaler alle colonne di input\n",
        "scaler = StandardScaler()\n",
        "X_scaled = scaler.fit_transform(X)\n",
        "\n",
        "# creare il modello di Decision Tree e addestrarlo\n",
        "model = KNeighborsClassifier()\n",
        "model.fit(X_scaled, y)\n",
        "\n",
        "# Salva il modello su file\n",
        "dump(model, 'Models/16 KNN-TTL-TransmissionsNumber-IntervalTime.joblib')"
      ],
      "metadata": {
        "colab": {
          "base_uri": "https://localhost:8080/"
        },
        "id": "MKll-iQAe7YV",
        "outputId": "a11712a9-c6f6-451d-ff21-d3b91377d504"
      },
      "execution_count": 19,
      "outputs": [
        {
          "output_type": "stream",
          "name": "stderr",
          "text": [
            "/usr/local/lib/python3.9/dist-packages/sklearn/neighbors/_classification.py:215: DataConversionWarning: A column-vector y was passed when a 1d array was expected. Please change the shape of y to (n_samples,), for example using ravel().\n",
            "  return self._fit(X, y)\n"
          ]
        },
        {
          "output_type": "execute_result",
          "data": {
            "text/plain": [
              "['Models/16 KNN-TTL-TransmissionsNumber-IntervalTime.joblib']"
            ]
          },
          "metadata": {},
          "execution_count": 19
        }
      ]
    },
    {
      "cell_type": "markdown",
      "source": [
        "#### Delay - PDR - DeviceID - TransmissionPower - TransmissionsNumber - IntervalTime"
      ],
      "metadata": {
        "id": "GMnQH-YAfGbT"
      }
    },
    {
      "cell_type": "code",
      "source": [
        "# selezionare le colonne di input e di output\n",
        "input_cols = [\"Delay\", \"PDR\", \"DeviceID\", \"TransmissionPower\", \"TransmissionsNumber\", \"IntervalTime\"]\n",
        "output_cols = [\"TTL\"]\n",
        "\n",
        "# dividi le colonne di input e di output\n",
        "X = dataset[input_cols]\n",
        "y = dataset[output_cols]\n",
        "\n",
        "# applicare la Standard Scaler alle colonne di input\n",
        "scaler = StandardScaler()\n",
        "X_scaled = scaler.fit_transform(X)\n",
        "\n",
        "# creare il modello di Decision Tree e addestrarlo\n",
        "model = KNeighborsClassifier()\n",
        "model.fit(X_scaled, y)\n",
        "\n",
        "# Salva il modello su file\n",
        "dump(model, 'Models/17 KNN-TransmissionPower-TransmissionsNumber-IntervalTime.joblib')"
      ],
      "metadata": {
        "colab": {
          "base_uri": "https://localhost:8080/"
        },
        "id": "ieb003xdfJEb",
        "outputId": "d12038e0-60d8-45bd-9c18-53517deebc81"
      },
      "execution_count": 20,
      "outputs": [
        {
          "output_type": "stream",
          "name": "stderr",
          "text": [
            "/usr/local/lib/python3.9/dist-packages/sklearn/neighbors/_classification.py:215: DataConversionWarning: A column-vector y was passed when a 1d array was expected. Please change the shape of y to (n_samples,), for example using ravel().\n",
            "  return self._fit(X, y)\n"
          ]
        },
        {
          "output_type": "execute_result",
          "data": {
            "text/plain": [
              "['Models/17 KNN-TransmissionPower-TransmissionsNumber-IntervalTime.joblib']"
            ]
          },
          "metadata": {},
          "execution_count": 20
        }
      ]
    },
    {
      "cell_type": "markdown",
      "source": [
        "## Prediction"
      ],
      "metadata": {
        "id": "JFcI0L3dMSqv"
      }
    },
    {
      "cell_type": "markdown",
      "source": [
        "### Prediction of 5 variables"
      ],
      "metadata": {
        "id": "wfo0WRYDc9BC"
      }
    },
    {
      "cell_type": "markdown",
      "source": [
        "#### Prediction of 5 variables - Delay"
      ],
      "metadata": {
        "id": "GpbpZXTbdBqG"
      }
    },
    {
      "cell_type": "code",
      "source": [
        "# Carica il modello addestrato\n",
        "clf = load('Models/01 KNN-Delay.joblib')\n",
        "\n",
        "# Combinazione di tutti i parametri\n",
        "combinations = list(itertools.product(DelayValues, IDNodos))\n",
        "\n",
        "output = []\n",
        "for combination in combinations:\n",
        "  DelayValue = combination[0]\n",
        "  IDNodo = combination[1]\n",
        "\n",
        "  # Esegui la predizione\n",
        "  prediction = clf.predict([[DelayValue, IDNodo]])\n",
        "\n",
        "  row = []\n",
        "  row.append(DelayValue)\n",
        "  row.append(IDNodo)\n",
        "  row.append(prediction[0][0])\n",
        "  row.append(prediction[0][1])\n",
        "  row.append(prediction[0][2])\n",
        "  row.append(prediction[0][3])\n",
        "  output.append(row)\n",
        "  \n",
        "#print(output)\n",
        "dataframeOutput = pd.DataFrame(output)\n",
        "header = ['Delay (ms)', 'NodeId', 'TTL', 'Potenza di trasmissione', 'Numero di trasmissioni', 'Intervallo tra le trasmissioni']\n",
        "dataframeOutput.columns = header\n",
        "\n",
        "# Esportare in un file CSV\n",
        "dataframeOutput.to_csv('Results/01 KNN-Delay.csv', index=False)"
      ],
      "metadata": {
        "id": "4j4g3Og-dM5a"
      },
      "execution_count": 21,
      "outputs": []
    },
    {
      "cell_type": "markdown",
      "source": [
        "#### Prediction of 5 variables - PDR"
      ],
      "metadata": {
        "id": "XJ1flNbadFdX"
      }
    },
    {
      "cell_type": "code",
      "source": [
        "# Carica il modello addestrato\n",
        "clf = load('Models/02 KNN-PDR.joblib')\n",
        "\n",
        "# Combinazione di tutti i parametri\n",
        "combinations = list(itertools.product(PDRValues, IDNodos))\n",
        "\n",
        "output = []\n",
        "for combination in combinations:\n",
        "  PDRValue = combination[0]\n",
        "  IDNodo = combination[1]\n",
        "\n",
        "  # Esegui la predizione\n",
        "  prediction = clf.predict([[PDRValue, IDNodo]])\n",
        "\n",
        "  row = []\n",
        "  row.append(PDRValue)\n",
        "  row.append(IDNodo)\n",
        "  row.append(prediction[0][0])\n",
        "  row.append(prediction[0][1])\n",
        "  row.append(prediction[0][2])\n",
        "  row.append(prediction[0][3])\n",
        "  output.append(row)\n",
        "  \n",
        "#print(output)\n",
        "dataframeOutput = pd.DataFrame(output)\n",
        "header = ['PDR', 'NodeId', 'TTL', 'Potenza di trasmissione', 'Numero di trasmissioni', 'Intervallo tra le trasmissioni']\n",
        "dataframeOutput.columns = header\n",
        "\n",
        "# Esportare in un file CSV\n",
        "dataframeOutput.to_csv('Results/02 KNN-PDR.csv', index=False)"
      ],
      "metadata": {
        "id": "DA2OIqfGdMVS"
      },
      "execution_count": 22,
      "outputs": []
    },
    {
      "cell_type": "markdown",
      "source": [
        "### Prediction of 4 variables"
      ],
      "metadata": {
        "id": "eoLKvxHsfd0b"
      }
    },
    {
      "cell_type": "code",
      "source": [
        "# Carica il modello addestrato\n",
        "clf = load('Models/03 KNN.joblib')\n",
        "\n",
        "# Combinazione di tutti i parametri\n",
        "combinations = list(itertools.product(DelayValues, PDRValues, IDNodos))\n",
        "\n",
        "output = []\n",
        "for combination in combinations:\n",
        "  DelayValue = combination[0]\n",
        "  PDRValue = combination[1]\n",
        "  IDNodo = combination[2]\n",
        "\n",
        "  # Esegui la predizione\n",
        "  prediction = clf.predict([[DelayValue, PDRValue, IDNodo]])\n",
        "\n",
        "  row = []\n",
        "  row.append(DelayValue)\n",
        "  row.append(PDRValue)\n",
        "  row.append(IDNodo)\n",
        "  row.append(prediction[0][0])\n",
        "  row.append(prediction[0][1])\n",
        "  row.append(prediction[0][2])\n",
        "  row.append(prediction[0][3])\n",
        "  output.append(row)\n",
        "  \n",
        "#print(output)\n",
        "dataframeOutput = pd.DataFrame(output)\n",
        "header = ['Delay (ms)', 'PDR', 'NodeId', 'TTL', 'Potenza di trasmissione', 'Numero di trasmissioni', 'Intervallo tra le trasmissioni']\n",
        "dataframeOutput.columns = header\n",
        "\n",
        "# Esportare in un file CSV\n",
        "dataframeOutput.to_csv('Results/03 KNN.csv', index=False)"
      ],
      "metadata": {
        "id": "bWjCunflMWhR"
      },
      "execution_count": 23,
      "outputs": []
    },
    {
      "cell_type": "markdown",
      "source": [
        "### Prediction of 3 variables"
      ],
      "metadata": {
        "id": "0v40blKafhoS"
      }
    },
    {
      "cell_type": "markdown",
      "source": [
        "#### Prediction of 3 variables - TTL"
      ],
      "metadata": {
        "id": "KhIQg-lSfjx-"
      }
    },
    {
      "cell_type": "code",
      "source": [
        "# Carica il modello addestrato\n",
        "clf = load('Models/04 KNN-TTL.joblib')\n",
        "\n",
        "# Combinazione di tutti i parametri\n",
        "combinations = list(itertools.product(DelayValues, PDRValues, IDNodos, TTLValues))\n",
        "\n",
        "output = []\n",
        "for combination in combinations:\n",
        "  DelayValue = combination[0]\n",
        "  PDRValue = combination[1]\n",
        "  IDNodo = combination[2]\n",
        "  TTLValue = combination[3]\n",
        "\n",
        "  # Esegui la predizione\n",
        "  prediction = clf.predict([[DelayValue, PDRValue, IDNodo, TTLValue]])\n",
        "\n",
        "  row = []\n",
        "  row.append(DelayValue)\n",
        "  row.append(PDRValue)\n",
        "  row.append(IDNodo)\n",
        "  row.append(TTLValue)\n",
        "  row.append(prediction[0][0])\n",
        "  row.append(prediction[0][1])\n",
        "  row.append(prediction[0][2])\n",
        "  output.append(row)\n",
        "  \n",
        "#print(output)\n",
        "dataframeOutput = pd.DataFrame(output)\n",
        "header = ['Delay (ms)', 'PDR', 'NodeId', 'TTL', 'Potenza di trasmissione', 'Numero di trasmissioni', 'Intervallo tra le trasmissioni']\n",
        "dataframeOutput.columns = header\n",
        "\n",
        "# Esportare in un file CSV\n",
        "dataframeOutput.to_csv('Results/04 KNN-TTL.csv', index=False)"
      ],
      "metadata": {
        "id": "Upb3OzR2fmiT"
      },
      "execution_count": 24,
      "outputs": []
    },
    {
      "cell_type": "markdown",
      "source": [
        "#### Prediction of 3 variables - TransmissionPower"
      ],
      "metadata": {
        "id": "OPfkK9zegOF6"
      }
    },
    {
      "cell_type": "code",
      "source": [
        "# Carica il modello addestrato\n",
        "clf = load('Models/05 KNN-TransmissionPower.joblib')\n",
        "\n",
        "# Combinazione di tutti i parametri\n",
        "combinations = list(itertools.product(DelayValues, PDRValues, IDNodos, TransmissionPowerValues))\n",
        "\n",
        "output = []\n",
        "for combination in combinations:\n",
        "  DelayValue = combination[0]\n",
        "  PDRValue = combination[1]\n",
        "  IDNodo = combination[2]\n",
        "  TransmissionPowerValue = combination[3]\n",
        "\n",
        "  # Esegui la predizione\n",
        "  prediction = clf.predict([[DelayValue, PDRValue, IDNodo, TransmissionPowerValue]])\n",
        "\n",
        "  row = []\n",
        "  row.append(DelayValue)\n",
        "  row.append(PDRValue)\n",
        "  row.append(IDNodo)\n",
        "  row.append(prediction[0][0])\n",
        "  row.append(TransmissionPowerValue)\n",
        "  row.append(prediction[0][1])\n",
        "  row.append(prediction[0][2])\n",
        "  output.append(row)\n",
        "  \n",
        "#print(output)\n",
        "dataframeOutput = pd.DataFrame(output)\n",
        "header = ['Delay (ms)', 'PDR', 'NodeId', 'TTL', 'Potenza di trasmissione', 'Numero di trasmissioni', 'Intervallo tra le trasmissioni']\n",
        "dataframeOutput.columns = header\n",
        "\n",
        "# Esportare in un file CSV\n",
        "dataframeOutput.to_csv('Results/05 KNN-TransmissionPower.csv', index=False)"
      ],
      "metadata": {
        "id": "_gRkhFI8gQVY"
      },
      "execution_count": 25,
      "outputs": []
    },
    {
      "cell_type": "markdown",
      "source": [
        "#### Prediction of 3 variables - TransmissionsNumber"
      ],
      "metadata": {
        "id": "6-0PZlW-gogY"
      }
    },
    {
      "cell_type": "code",
      "source": [
        "# Carica il modello addestrato\n",
        "clf = load('Models/06 KNN-TransmissionsNumber.joblib')\n",
        "\n",
        "# Combinazione di tutti i parametri\n",
        "combinations = list(itertools.product(DelayValues, PDRValues, IDNodos, TransmissionNumberValues))\n",
        "\n",
        "output = []\n",
        "for combination in combinations:\n",
        "  DelayValue = combination[0]\n",
        "  PDRValue = combination[1]\n",
        "  IDNodo = combination[2]\n",
        "  TransmissionsNumberValue = combination[3]\n",
        "\n",
        "  # Esegui la predizione\n",
        "  prediction = clf.predict([[DelayValue, PDRValue, IDNodo, TransmissionsNumberValue]])\n",
        "\n",
        "  row = []\n",
        "  row.append(DelayValue)\n",
        "  row.append(PDRValue)\n",
        "  row.append(IDNodo)\n",
        "  row.append(prediction[0][0])\n",
        "  row.append(prediction[0][1])\n",
        "  row.append(TransmissionsNumberValue)\n",
        "  row.append(prediction[0][2])\n",
        "  output.append(row)\n",
        "  \n",
        "#print(output)\n",
        "dataframeOutput = pd.DataFrame(output)\n",
        "header = ['Delay (ms)', 'PDR', 'NodeId', 'TTL', 'Potenza di trasmissione', 'Numero di trasmissioni', 'Intervallo tra le trasmissioni']\n",
        "dataframeOutput.columns = header\n",
        "\n",
        "# Esportare in un file CSV\n",
        "dataframeOutput.to_csv('Results/06 KNN-TransmissionsNumber.csv', index=False)"
      ],
      "metadata": {
        "id": "5iZXXGT2gjKT"
      },
      "execution_count": 26,
      "outputs": []
    },
    {
      "cell_type": "markdown",
      "source": [
        "#### Prediction of 3 variables - IntervalTime"
      ],
      "metadata": {
        "id": "CLcb70GZhlOq"
      }
    },
    {
      "cell_type": "code",
      "source": [
        "# Carica il modello addestrato\n",
        "clf = load('Models/07 KNN-IntervalTime.joblib')\n",
        "\n",
        "# Combinazione di tutti i parametri\n",
        "combinations = list(itertools.product(DelayValues, PDRValues, IDNodos, IntervalTimeValues))\n",
        "\n",
        "output = []\n",
        "for combination in combinations:\n",
        "  DelayValue = combination[0]\n",
        "  PDRValue = combination[1]\n",
        "  IDNodo = combination[2]\n",
        "  IntervalTimeValue = combination[3]\n",
        "\n",
        "  # Esegui la predizione\n",
        "  prediction = clf.predict([[DelayValue, PDRValue, IDNodo, IntervalTimeValue]])\n",
        "\n",
        "  row = []\n",
        "  row.append(DelayValue)\n",
        "  row.append(PDRValue)\n",
        "  row.append(IDNodo)\n",
        "  row.append(prediction[0][0])\n",
        "  row.append(prediction[0][1])\n",
        "  row.append(prediction[0][2])\n",
        "  row.append(IntervalTimeValue)\n",
        "  output.append(row)\n",
        "  \n",
        "dataframeOutput = pd.DataFrame(output)\n",
        "header = ['Delay (ms)', 'PDR', 'NodeId', 'TTL', 'Potenza di trasmissione', 'Numero di trasmissioni', 'Intervallo tra le trasmissioni']\n",
        "dataframeOutput.columns = header\n",
        "\n",
        "# Esportare in un file CSV\n",
        "dataframeOutput.to_csv('Results/07 KNN-IntervalTime.joblib.csv', index=False)"
      ],
      "metadata": {
        "id": "7TiN-el0hoCc"
      },
      "execution_count": 27,
      "outputs": []
    },
    {
      "cell_type": "markdown",
      "source": [
        "### Preditcion of 2 variables"
      ],
      "metadata": {
        "id": "qK6rwA-Ch8SN"
      }
    },
    {
      "cell_type": "markdown",
      "source": [
        "#### Delay - PDR - DeviceID- TTL - TransmissionPower"
      ],
      "metadata": {
        "id": "J-94c5Ngh_E9"
      }
    },
    {
      "cell_type": "code",
      "source": [
        "# Carica il modello addestrato\n",
        "clf = load('Models/08 KNN-TTL-TransmissionPower.joblib')\n",
        "\n",
        "# Combinazione di tutti i parametri\n",
        "combinations = list(itertools.product(DelayValues, PDRValues, IDNodos, TTLValues,TransmissionPowerValues))\n",
        "\n",
        "output = []\n",
        "for combination in combinations:\n",
        "  DelayValue = combination[0]\n",
        "  PDRValue = combination[1]\n",
        "  IDNodo = combination[2]\n",
        "  TTLValue = combination[3]\n",
        "  TransmissionPowerValue = combination[4]\n",
        "\n",
        "  # Esegui la predizione\n",
        "  prediction = clf.predict([[DelayValue, PDRValue, IDNodo, TTLValue, TransmissionPowerValue]])\n",
        "\n",
        "  row = []\n",
        "  row.append(DelayValue)\n",
        "  row.append(PDRValue)\n",
        "  row.append(IDNodo)\n",
        "  row.append(TTLValue)\n",
        "  row.append(TransmissionPowerValue)\n",
        "  row.append(prediction[0][0])\n",
        "  row.append(prediction[0][1])\n",
        "  output.append(row)\n",
        "  \n",
        "dataframeOutput = pd.DataFrame(output)\n",
        "header = ['Delay (ms)', 'PDR', 'NodeId', 'TTL', 'Potenza di trasmissione', 'Numero di trasmissioni', 'Intervallo tra le trasmissioni']\n",
        "dataframeOutput.columns = header\n",
        "\n",
        "# Esportare in un file CSV\n",
        "dataframeOutput.to_csv('Results/08 KNN-TTL-TransmissionPower.joblib.csv', index=False)"
      ],
      "metadata": {
        "id": "SE-34cvHiBVD"
      },
      "execution_count": 28,
      "outputs": []
    },
    {
      "cell_type": "markdown",
      "source": [
        "#### Delay - PDR - DeviceID- TTL - TransmissionsNumber"
      ],
      "metadata": {
        "id": "HIdTYR_wieQq"
      }
    },
    {
      "cell_type": "code",
      "source": [
        "# Carica il modello addestrato\n",
        "clf = load('Models/09 KNN-TTL-TransmissionsNumber.joblib')\n",
        "\n",
        "# Combinazione di tutti i parametri\n",
        "combinations = list(itertools.product(DelayValues, PDRValues, IDNodos, TTLValues,TransmissionNumberValues))\n",
        "\n",
        "output = []\n",
        "for combination in combinations:\n",
        "  DelayValue = combination[0]\n",
        "  PDRValue = combination[1]\n",
        "  IDNodo = combination[2]\n",
        "  TTLValue = combination[3]\n",
        "  TransmissionsNumberValue = combination[4]\n",
        "\n",
        "  # Esegui la predizione\n",
        "  prediction = clf.predict([[DelayValue, PDRValue, IDNodo, TTLValue, TransmissionsNumberValue]])\n",
        "\n",
        "  row = []\n",
        "  row.append(DelayValue)\n",
        "  row.append(PDRValue)\n",
        "  row.append(IDNodo)\n",
        "  row.append(TTLValue)\n",
        "  row.append(prediction[0][0])\n",
        "  row.append(TransmissionsNumberValue)\n",
        "  row.append(prediction[0][1])\n",
        "  output.append(row)\n",
        "  \n",
        "dataframeOutput = pd.DataFrame(output)\n",
        "header = ['Delay (ms)', 'PDR', 'NodeId', 'TTL', 'Potenza di trasmissione', 'Numero di trasmissioni', 'Intervallo tra le trasmissioni']\n",
        "dataframeOutput.columns = header\n",
        "\n",
        "# Esportare in un file CSV\n",
        "dataframeOutput.to_csv('Results/09 KNN-TTL-TransmissionsNumber.csv', index=False)"
      ],
      "metadata": {
        "id": "-yyYbhDgig8t"
      },
      "execution_count": 29,
      "outputs": []
    },
    {
      "cell_type": "markdown",
      "source": [
        "#### Delay - PDR - DeviceID - TTL - IntervalTime"
      ],
      "metadata": {
        "id": "KoAgaq7IkNBA"
      }
    },
    {
      "cell_type": "code",
      "source": [
        "# Carica il modello addestrato\n",
        "clf = load('Models/10 KNN-TTL-IntervalTime.joblib')\n",
        "\n",
        "# Combinazione di tutti i parametri\n",
        "combinations = list(itertools.product(DelayValues, PDRValues, IDNodos, TTLValues,IntervalTimeValues))\n",
        "\n",
        "output = []\n",
        "for combination in combinations:\n",
        "  DelayValue = combination[0]\n",
        "  PDRValue = combination[1]\n",
        "  IDNodo = combination[2]\n",
        "  TTLValue = combination[3]\n",
        "  IntervalTimeValue = combination[4]\n",
        "\n",
        "  # Esegui la predizione\n",
        "  prediction = clf.predict([[DelayValue, PDRValue, IDNodo, TTLValue, IntervalTimeValue]])\n",
        "\n",
        "  row = []\n",
        "  row.append(DelayValue)\n",
        "  row.append(PDRValue)\n",
        "  row.append(IDNodo)\n",
        "  row.append(TTLValue)\n",
        "  row.append(prediction[0][0])\n",
        "  row.append(prediction[0][1])\n",
        "  row.append(IntervalTimeValue)\n",
        "  output.append(row)\n",
        "  \n",
        "dataframeOutput = pd.DataFrame(output)\n",
        "header = ['Delay (ms)', 'PDR', 'NodeId', 'TTL', 'Potenza di trasmissione', 'Numero di trasmissioni', 'Intervallo tra le trasmissioni']\n",
        "dataframeOutput.columns = header\n",
        "\n",
        "# Esportare in un file CSV\n",
        "dataframeOutput.to_csv('Results/10 KNN-TTL-IntervalTime.csv', index=False)"
      ],
      "metadata": {
        "id": "Jmq1oqjkkOEW"
      },
      "execution_count": 30,
      "outputs": []
    },
    {
      "cell_type": "markdown",
      "source": [
        "#### Delay - PDR - DeviceID - TransmissionPower - TransmissionsNumber"
      ],
      "metadata": {
        "id": "ylGEQyP8kvaO"
      }
    },
    {
      "cell_type": "code",
      "source": [
        "# Carica il modello addestrato\n",
        "clf = load('Models/11 KNN-TransmissionPower-TransmissionsNumber.joblib')\n",
        "\n",
        "# Combinazione di tutti i parametri\n",
        "combinations = list(itertools.product(DelayValues, PDRValues, IDNodos, TransmissionPowerValues,TransmissionNumberValues))\n",
        "\n",
        "output = []\n",
        "for combination in combinations:\n",
        "  DelayValue = combination[0]\n",
        "  PDRValue = combination[1]\n",
        "  IDNodo = combination[2]\n",
        "  TransmissionPowerValue = combination[3]\n",
        "  TransimissionNumberValue = combination[4]\n",
        "\n",
        "  # Esegui la predizione\n",
        "  prediction = clf.predict([[DelayValue, PDRValue, IDNodo, TransmissionPowerValue, TransimissionNumberValue]])\n",
        "\n",
        "  row = []\n",
        "  row.append(DelayValue)\n",
        "  row.append(PDRValue)\n",
        "  row.append(IDNodo)\n",
        "  row.append(prediction[0][0])\n",
        "  row.append(TransmissionPowerValue)\n",
        "  row.append(TransimissionNumberValue)\n",
        "  row.append(prediction[0][1])\n",
        "  output.append(row)\n",
        "  \n",
        "dataframeOutput = pd.DataFrame(output)\n",
        "header = ['Delay (ms)', 'PDR', 'NodeId', 'TTL', 'Potenza di trasmissione', 'Numero di trasmissioni', 'Intervallo tra le trasmissioni']\n",
        "dataframeOutput.columns = header\n",
        "\n",
        "# Esportare in un file CSV\n",
        "dataframeOutput.to_csv('Results/11 KNN-TransmissionPower-TransmissionsNumber.csv', index=False)"
      ],
      "metadata": {
        "id": "V9hzJBIukz31"
      },
      "execution_count": 31,
      "outputs": []
    },
    {
      "cell_type": "markdown",
      "source": [
        "#### Delay - PDR - DeviceID - TransmissionPower - IntervalTime"
      ],
      "metadata": {
        "id": "_ukxlIovlMfc"
      }
    },
    {
      "cell_type": "code",
      "source": [
        "# Carica il modello addestrato\n",
        "clf = load('Models/12 KNN-TransmissionPower-IntervalTime.joblib')\n",
        "\n",
        "# Combinazione di tutti i parametri\n",
        "combinations = list(itertools.product(DelayValues, PDRValues, IDNodos, TransmissionPowerValues,IntervalTimeValues))\n",
        "\n",
        "output = []\n",
        "for combination in combinations:\n",
        "  DelayValue = combination[0]\n",
        "  PDRValue = combination[1]\n",
        "  IDNodo = combination[2]\n",
        "  TransmissionPowerValue = combination[3]\n",
        "  IntervalTimeValue = combination[4]\n",
        "\n",
        "  # Esegui la predizione\n",
        "  prediction = clf.predict([[DelayValue, PDRValue, IDNodo, TransmissionPowerValue, IntervalTimeValue]])\n",
        "\n",
        "  row = []\n",
        "  row.append(DelayValue)\n",
        "  row.append(PDRValue)\n",
        "  row.append(IDNodo)\n",
        "  row.append(prediction[0][0])\n",
        "  row.append(TransmissionPowerValue)\n",
        "  row.append(prediction[0][1])\n",
        "  row.append(IntervalTimeValue)\n",
        "  output.append(row)\n",
        "  \n",
        "dataframeOutput = pd.DataFrame(output)\n",
        "header = ['Delay (ms)', 'PDR', 'NodeId', 'TTL', 'Potenza di trasmissione', 'Numero di trasmissioni', 'Intervallo tra le trasmissioni']\n",
        "dataframeOutput.columns = header\n",
        "\n",
        "# Esportare in un file CSV\n",
        "dataframeOutput.to_csv('Results/12 KNN-TransmissionPower-IntervalTime.csv', index=False)"
      ],
      "metadata": {
        "id": "mI-fd4FQlNTO"
      },
      "execution_count": 32,
      "outputs": []
    },
    {
      "cell_type": "markdown",
      "source": [
        "#### Delay - PDR - DeviceID - TransmissionNumber - IntervalTime"
      ],
      "metadata": {
        "id": "mo57UiHBhEl7"
      }
    },
    {
      "cell_type": "code",
      "source": [
        "# Carica il modello addestrato\n",
        "clf = load('Models/13 KNN-TransmissionsNumber-IntervalTime.joblib')\n",
        "\n",
        "# Combinazione di tutti i parametri\n",
        "combinations = list(itertools.product(DelayValues, PDRValues, IDNodos, TransmissionNumberValues,IntervalTimeValues))\n",
        "\n",
        "output = []\n",
        "for combination in combinations:\n",
        "  DelayValue = combination[0]\n",
        "  PDRValue = combination[1]\n",
        "  IDNodo = combination[2]\n",
        "  TransimissionNumberValue = combination[3]\n",
        "  IntervalTimeValue = combination[4]\n",
        "\n",
        "  # Esegui la predizione\n",
        "  prediction = clf.predict([[DelayValue, PDRValue, IDNodo, TransimissionNumberValue, IntervalTimeValue]])\n",
        "\n",
        "  row = []\n",
        "  row.append(DelayValue)\n",
        "  row.append(PDRValue)\n",
        "  row.append(IDNodo)\n",
        "  row.append(prediction[0][0])\n",
        "  row.append(prediction[0][1])\n",
        "  row.append(TransimissionNumberValue)\n",
        "  row.append(IntervalTimeValue)\n",
        "  output.append(row)\n",
        "  \n",
        "dataframeOutput = pd.DataFrame(output)\n",
        "header = ['Delay (ms)', 'PDR', 'NodeId', 'TTL', 'Potenza di trasmissione', 'Numero di trasmissioni', 'Intervallo tra le trasmissioni']\n",
        "dataframeOutput.columns = header\n",
        "\n",
        "# Esportare in un file CSV\n",
        "dataframeOutput.to_csv('Results/13 KNN-TransmissionsNumber-IntervalTime.csv', index=False)"
      ],
      "metadata": {
        "id": "oT-mj88nhM4U"
      },
      "execution_count": 33,
      "outputs": []
    },
    {
      "cell_type": "markdown",
      "source": [
        "### Prediction of 1 variable"
      ],
      "metadata": {
        "id": "tJ-e2xETcOCp"
      }
    },
    {
      "cell_type": "markdown",
      "source": [
        "#### Delay - PDR - DeviceID - TTL - TransmissionPower - TransmissionsNumber"
      ],
      "metadata": {
        "id": "5QycbBrPlh6k"
      }
    },
    {
      "cell_type": "code",
      "source": [
        "# Carica il modello addestrato\n",
        "clf = load('Models/14 KNN-TTL-TransmissionPower-TransmissionsNumber.joblib')\n",
        "\n",
        "# Combinazione di tutti i parametri\n",
        "combinations = list(itertools.product(DelayValues, PDRValues, IDNodos, TTLValues, TransmissionPowerValues, TransmissionNumberValues))\n",
        "\n",
        "output = []\n",
        "for combination in combinations:\n",
        "  DelayValue = combination[0]\n",
        "  PDRValue = combination[1]\n",
        "  IDNodo = combination[2]\n",
        "  TTLValue = combination[3]\n",
        "  TransmissionPowerValue = combination[4]\n",
        "  TransimissionNumberValue = combination[5]\n",
        "\n",
        "  # Esegui la predizione\n",
        "  prediction = clf.predict([[DelayValue, PDRValue, IDNodo, TTLValue, TransmissionPowerValue, TransimissionNumberValue]])\n",
        "  # print(str(prediction))\n",
        "\n",
        "  row = []\n",
        "  row.append(DelayValue)\n",
        "  row.append(PDRValue)\n",
        "  row.append(IDNodo)\n",
        "  row.append(TTLValue)\n",
        "  row.append(TransmissionPowerValue)\n",
        "  row.append(TransimissionNumberValue)\n",
        "  row.append(prediction[0])\n",
        "  output.append(row)\n",
        "  \n",
        "dataframeOutput = pd.DataFrame(output)\n",
        "header = ['Delay (ms)', 'PDR', 'NodeId', 'TTL', 'Potenza di trasmissione', 'Numero di trasmissioni', 'Intervallo tra le trasmissioni']\n",
        "dataframeOutput.columns = header\n",
        "\n",
        "# Esportare in un file CSV\n",
        "dataframeOutput.to_csv('Results/14 KNN-TTL-TransmissionPower-TransmissionsNumber.csv', index=False)"
      ],
      "metadata": {
        "id": "cccOlP3Rliu3"
      },
      "execution_count": 34,
      "outputs": []
    },
    {
      "cell_type": "markdown",
      "source": [
        "#### Delay - PDR - DeviceID - TTL - TransmissionPower - IntervalTime"
      ],
      "metadata": {
        "id": "r0ki1CEqTY4g"
      }
    },
    {
      "cell_type": "code",
      "source": [
        "# Carica il modello addestrato\n",
        "clf = load('Models/15 KNN-TTL-TransmissionPower-IntervalTime.joblib')\n",
        "\n",
        "# Combinazione di tutti i parametri\n",
        "combinations = list(itertools.product(DelayValues, PDRValues, IDNodos, TTLValues, TransmissionPowerValues, IntervalTimeValues))\n",
        "\n",
        "output = []\n",
        "for combination in combinations:\n",
        "  DelayValue = combination[0]\n",
        "  PDRValue = combination[1]\n",
        "  IDNodo = combination[2]\n",
        "  TTLValue = combination[3]\n",
        "  TransmissionPowerValue = combination[4]\n",
        "  IntervalTimeValue = combination[5]\n",
        "\n",
        "  # Esegui la predizione\n",
        "  prediction = clf.predict([[DelayValue, PDRValue, IDNodo, TTLValue, TransmissionPowerValue, IntervalTimeValue]])\n",
        "  # print(str(prediction))\n",
        "\n",
        "  row = []\n",
        "  row.append(DelayValue)\n",
        "  row.append(PDRValue)\n",
        "  row.append(IDNodo)\n",
        "  row.append(TTLValue)\n",
        "  row.append(TransmissionPowerValue)\n",
        "  row.append(prediction[0])\n",
        "  row.append(IntervalTimeValue)\n",
        "  output.append(row)\n",
        "  \n",
        "dataframeOutput = pd.DataFrame(output)\n",
        "header = ['Delay (ms)', 'PDR', 'NodeId', 'TTL', 'Potenza di trasmissione', 'Numero di trasmissioni', 'Intervallo tra le trasmissioni']\n",
        "dataframeOutput.columns = header\n",
        "\n",
        "# Esportare in un file CSV\n",
        "dataframeOutput.to_csv('Results/15 KNN-TTL-TransmissionPower-IntervalTime.joblib.csv', index=False)"
      ],
      "metadata": {
        "id": "FtwV1Btwb4ec"
      },
      "execution_count": 35,
      "outputs": []
    },
    {
      "cell_type": "markdown",
      "source": [
        "#### Delay - PDR - DeviceID - TTL - TransmissionsNumber - IntervalTime"
      ],
      "metadata": {
        "id": "-L9ht50UTip4"
      }
    },
    {
      "cell_type": "code",
      "source": [
        "# Carica il modello addestrato\n",
        "clf = load('Models/16 KNN-TTL-TransmissionsNumber-IntervalTime.joblib')\n",
        "\n",
        "# Combinazione di tutti i parametri\n",
        "combinations = list(itertools.product(DelayValues, PDRValues, IDNodos, TTLValues, TransmissionNumberValues, IntervalTimeValues))\n",
        "\n",
        "output = []\n",
        "for combination in combinations:\n",
        "  DelayValue = combination[0]\n",
        "  PDRValue = combination[1]\n",
        "  IDNodo = combination[2]\n",
        "  TTLValue = combination[3]\n",
        "  TransimissionNumberValue = combination[4]\n",
        "  IntervalTimeValue = combination[5]\n",
        "\n",
        "  # Esegui la predizione\n",
        "  prediction = clf.predict([[DelayValue, PDRValue, IDNodo, TTLValue, TransimissionNumberValue, IntervalTimeValue]])\n",
        "  # print(str(prediction))\n",
        "\n",
        "  row = []\n",
        "  row.append(DelayValue)\n",
        "  row.append(PDRValue)\n",
        "  row.append(IDNodo)\n",
        "  row.append(TTLValue)\n",
        "  row.append(prediction[0])\n",
        "  row.append(TransimissionNumberValue)\n",
        "  row.append(IntervalTimeValue)\n",
        "  output.append(row)\n",
        "  \n",
        "dataframeOutput = pd.DataFrame(output)\n",
        "header = ['Delay (ms)', 'PDR', 'NodeId', 'TTL', 'Potenza di trasmissione', 'Numero di trasmissioni', 'Intervallo tra le trasmissioni']\n",
        "dataframeOutput.columns = header\n",
        "\n",
        "# Esportare in un file CSV\n",
        "dataframeOutput.to_csv('Results/16 KNN-TTL-TransmissionsNumber-IntervalTime.csv', index=False)"
      ],
      "metadata": {
        "id": "DVOJpvYlch9M"
      },
      "execution_count": 36,
      "outputs": []
    },
    {
      "cell_type": "markdown",
      "source": [
        "#### Delay - PDR - DeviceID - TransmissionPower - TransmissionsNumber - IntervalTime"
      ],
      "metadata": {
        "id": "GXuWPaDociaN"
      }
    },
    {
      "cell_type": "code",
      "source": [
        "# Carica il modello addestrato\n",
        "clf = load('Models/17 KNN-TransmissionPower-TransmissionsNumber-IntervalTime.joblib')\n",
        "\n",
        "# Combinazione di tutti i parametri\n",
        "combinations = list(itertools.product(DelayValues, PDRValues, IDNodos, TransmissionPowerValues, TransmissionNumberValues, IntervalTimeValues))\n",
        "\n",
        "output = []\n",
        "for combination in combinations:\n",
        "  DelayValue = combination[0]\n",
        "  PDRValue = combination[1]\n",
        "  IDNodo = combination[2]\n",
        "  TransmissionPowerValue = combination[3]\n",
        "  TransimissionNumberValue = combination[4]\n",
        "  IntervalTimeValue = combination[5]\n",
        "\n",
        "  # Esegui la predizione\n",
        "  prediction = clf.predict([[DelayValue, PDRValue, IDNodo, TransmissionPowerValue, TransimissionNumberValue, IntervalTimeValue]])\n",
        "  # print(str(prediction))\n",
        "\n",
        "  row = []\n",
        "  row.append(DelayValue)\n",
        "  row.append(PDRValue)\n",
        "  row.append(IDNodo)\n",
        "  row.append(prediction[0])\n",
        "  row.append(TransmissionPowerValue)\n",
        "  row.append(TransimissionNumberValue)\n",
        "  row.append(IntervalTimeValue)\n",
        "  output.append(row)\n",
        "  \n",
        "dataframeOutput = pd.DataFrame(output)\n",
        "header = ['Delay (ms)', 'PDR', 'NodeId', 'TTL', 'Potenza di trasmissione', 'Numero di trasmissioni', 'Intervallo tra le trasmissioni']\n",
        "dataframeOutput.columns = header\n",
        "\n",
        "# Esportare in un file CSV\n",
        "dataframeOutput.to_csv('Results/17 KNN-TransmissionPower-TransmissionsNumber-IntervalTime.csv', index=False)"
      ],
      "metadata": {
        "id": "Q18h4v1Kcnod"
      },
      "execution_count": 37,
      "outputs": []
    },
    {
      "cell_type": "markdown",
      "source": [
        "## Comandi"
      ],
      "metadata": {
        "id": "_F26u1OTi2vx"
      }
    },
    {
      "cell_type": "code",
      "source": [
        "!zip -r ModelsKNN.zip Models\n",
        "!zip -r ResultsKNN.zip Results"
      ],
      "metadata": {
        "colab": {
          "base_uri": "https://localhost:8080/"
        },
        "id": "fRpRDhSFi4zh",
        "outputId": "1749c25f-7a02-4f78-c0b9-3bc09d70fe5b"
      },
      "execution_count": 38,
      "outputs": [
        {
          "output_type": "stream",
          "name": "stdout",
          "text": [
            "  adding: Models/ (stored 0%)\n",
            "  adding: Models/02 KNN-PDR.joblib (deflated 97%)\n",
            "  adding: Models/06 KNN-TransmissionsNumber.joblib (deflated 90%)\n",
            "  adding: Models/14 KNN-TTL-TransmissionPower-TransmissionsNumber.joblib (deflated 91%)\n",
            "  adding: Models/09 KNN-TTL-TransmissionsNumber.joblib (deflated 90%)\n",
            "  adding: Models/03 KNN.joblib (deflated 89%)\n",
            "  adding: Models/15 KNN-TTL-TransmissionPower-IntervalTime.joblib (deflated 91%)\n",
            "  adding: Models/04 KNN-TTL.joblib (deflated 90%)\n",
            "  adding: Models/07 KNN-IntervalTime.joblib (deflated 90%)\n",
            "  adding: Models/17 KNN-TransmissionPower-TransmissionsNumber-IntervalTime.joblib (deflated 91%)\n",
            "  adding: Models/01 KNN-Delay.joblib (deflated 90%)\n",
            "  adding: Models/12 KNN-TransmissionPower-IntervalTime.joblib (deflated 90%)\n",
            "  adding: Models/16 KNN-TTL-TransmissionsNumber-IntervalTime.joblib (deflated 91%)\n",
            "  adding: Models/11 KNN-TransmissionPower-TransmissionsNumber.joblib (deflated 90%)\n",
            "  adding: Models/13 KNN-TransmissionsNumber-IntervalTime.joblib (deflated 90%)\n",
            "  adding: Models/05 KNN-TransmissionPower.joblib (deflated 90%)\n",
            "  adding: Models/10 KNN-TTL-IntervalTime.joblib (deflated 90%)\n",
            "  adding: Models/08 KNN-TTL-TransmissionPower.joblib (deflated 90%)\n",
            "  adding: Results/ (stored 0%)\n",
            "  adding: Results/12 KNN-TransmissionPower-IntervalTime.csv (deflated 89%)\n",
            "  adding: Results/04 KNN-TTL.csv (deflated 90%)\n",
            "  adding: Results/14 KNN-TTL-TransmissionPower-TransmissionsNumber.csv (deflated 90%)\n",
            "  adding: Results/17 KNN-TransmissionPower-TransmissionsNumber-IntervalTime.csv (deflated 89%)\n",
            "  adding: Results/08 KNN-TTL-TransmissionPower.joblib.csv (deflated 90%)\n",
            "  adding: Results/09 KNN-TTL-TransmissionsNumber.csv (deflated 90%)\n",
            "  adding: Results/03 KNN.csv (deflated 87%)\n",
            "  adding: Results/13 KNN-TransmissionsNumber-IntervalTime.csv (deflated 89%)\n",
            "  adding: Results/15 KNN-TTL-TransmissionPower-IntervalTime.joblib.csv (deflated 89%)\n",
            "  adding: Results/11 KNN-TransmissionPower-TransmissionsNumber.csv (deflated 90%)\n",
            "  adding: Results/16 KNN-TTL-TransmissionsNumber-IntervalTime.csv (deflated 90%)\n",
            "  adding: Results/01 KNN-Delay.csv (deflated 63%)\n",
            "  adding: Results/10 KNN-TTL-IntervalTime.csv (deflated 90%)\n",
            "  adding: Results/02 KNN-PDR.csv (deflated 57%)\n",
            "  adding: Results/05 KNN-TransmissionPower.csv (deflated 89%)\n",
            "  adding: Results/06 KNN-TransmissionsNumber.csv (deflated 89%)\n",
            "  adding: Results/07 KNN-IntervalTime.joblib.csv (deflated 89%)\n"
          ]
        }
      ]
    }
  ]
}