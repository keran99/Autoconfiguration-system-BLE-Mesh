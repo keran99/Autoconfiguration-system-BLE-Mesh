{
  "nbformat": 4,
  "nbformat_minor": 0,
  "metadata": {
    "colab": {
      "provenance": [],
      "collapsed_sections": [
        "ZdKdd_cMOjcl",
        "gVipkAxEPhl-"
      ]
    },
    "kernelspec": {
      "name": "python3",
      "display_name": "Python 3"
    },
    "language_info": {
      "name": "python"
    }
  },
  "cells": [
    {
      "cell_type": "markdown",
      "source": [
        "# Gradient Boosting"
      ],
      "metadata": {
        "id": "eNgUY1cVMeN3"
      }
    },
    {
      "cell_type": "markdown",
      "source": [
        "## Imports"
      ],
      "metadata": {
        "id": "cwHDKK6eMg3d"
      }
    },
    {
      "cell_type": "code",
      "execution_count": 1,
      "metadata": {
        "id": "ymUjTqDmMaNq"
      },
      "outputs": [],
      "source": [
        "import xgboost as xgb\n",
        "from sklearn.preprocessing import StandardScaler\n",
        "import pandas as pd\n",
        "from joblib import dump, load\n",
        "import itertools\n",
        "import csv"
      ]
    },
    {
      "cell_type": "markdown",
      "source": [
        "## Functions and variables"
      ],
      "metadata": {
        "id": "zfRStGfHOUUQ"
      }
    },
    {
      "cell_type": "code",
      "source": [
        "def conversionMs(x):\n",
        "    return round(x / 2000000, 3)\n",
        "\n",
        "DelayValues = [5, 5.5, 6, 6.5, 7, 7.5, 8, 8.5, 9, 9.5, 10, 10.5, 11, 11.5, 12, 12.5, 13, 13.5, 14, 14.5, 15]\n",
        "PDRValues = [0.5, 0.55, 0.6, 0.65, 0.7, 0.75, 0.8, 0.85, 0.9, 0.95, 1]\n",
        "\n",
        "DeviceID = [3]\n",
        "\n",
        "TTLValues = [2,3,4,5]\n",
        "TransmissionPowerValues = [1,3,6]\n",
        "TransmissionNumberValues = [1,3,5]\n",
        "IntervalTimeValues = [1,2,3,4,5]\n",
        "\n",
        "TTLValueSet = [2,3,4,5]\n",
        "TPValueSet = [1,3,6]\n",
        "TNValueSet = [1,3,5]\n",
        "TIValueSet = [1,2,3,4,5]"
      ],
      "metadata": {
        "id": "AEt8IHU3OWSH"
      },
      "execution_count": 2,
      "outputs": []
    },
    {
      "cell_type": "markdown",
      "source": [
        "## Dataset"
      ],
      "metadata": {
        "id": "9ZWrSOqyOc9e"
      }
    },
    {
      "cell_type": "code",
      "source": [
        "# Caricare i dati di esempio\n",
        "data_performance = pd.read_csv(\"parameters_performance.csv\")\n",
        "data_pdr =  pd.read_csv(\"parameters_pdr.csv\")\n",
        "data_performance['Delay'] = data_performance['Delay'].apply(conversionMs)\n",
        "data_pdr['PDR'] = data_pdr['PDRReceived'] / data_pdr['PDRSend']\n",
        "dataset = pd.merge(data_performance, data_pdr, on=['TTL', 'TransmissionPower', 'TransmissionsNumber', 'IntervalTime', 'DeviceID'])"
      ],
      "metadata": {
        "id": "H76hw4-JOfTu"
      },
      "execution_count": 3,
      "outputs": []
    },
    {
      "cell_type": "markdown",
      "source": [
        "## Gradient Boosting model creation"
      ],
      "metadata": {
        "id": "ZdKdd_cMOjcl"
      }
    },
    {
      "cell_type": "markdown",
      "source": [
        "### Gradient Boosting model creation - predictor of 5 variables"
      ],
      "metadata": {
        "id": "BfxpLvpKO3Ii"
      }
    },
    {
      "cell_type": "markdown",
      "source": [
        "#### Delay - NodeID"
      ],
      "metadata": {
        "id": "gVipkAxEPhl-"
      }
    },
    {
      "cell_type": "code",
      "source": [
        "# Seleziona le feature di input e il target\n",
        "input_features = ['Delay', 'DeviceID']\n",
        "target_features = ['TTL', 'TransmissionPower', 'TransmissionsNumber', 'IntervalTime']\n",
        "\n",
        "# Crea il dataset di training e testing con tutte le feature\n",
        "X = dataset[input_features]\n",
        "y = dataset[target_features]\n",
        "\n",
        "# Crea il modello per la previsione di tutti i target\n",
        "model = xgb.XGBRegressor()\n",
        "model.fit(X, y)\n",
        "\n",
        "dump(model, 'Models/01 Boosting-Delay.joblib')"
      ],
      "metadata": {
        "colab": {
          "base_uri": "https://localhost:8080/"
        },
        "id": "qk8J8s3NOtHW",
        "outputId": "26587d58-9b13-472e-897c-f9d14a229108"
      },
      "execution_count": 4,
      "outputs": [
        {
          "output_type": "execute_result",
          "data": {
            "text/plain": [
              "['Models/01 Boosting-Delay.joblib']"
            ]
          },
          "metadata": {},
          "execution_count": 4
        }
      ]
    },
    {
      "cell_type": "markdown",
      "source": [
        "#### PDR - NodeID"
      ],
      "metadata": {
        "id": "39LwLTs-TlXB"
      }
    },
    {
      "cell_type": "code",
      "source": [
        "# Seleziona le feature di input e il target\n",
        "input_features = ['PDR', 'DeviceID']\n",
        "target_features = ['TTL', 'TransmissionPower', 'TransmissionsNumber', 'IntervalTime']\n",
        "\n",
        "# Crea il dataset di training e testing con tutte le feature\n",
        "X = dataset[input_features]\n",
        "y = dataset[target_features]\n",
        "\n",
        "# Crea il modello per la previsione di tutti i target\n",
        "model = xgb.XGBRegressor()\n",
        "model.fit(X, y)\n",
        "\n",
        "dump(model, 'Models/02 Boosting-PDR.joblib')"
      ],
      "metadata": {
        "colab": {
          "base_uri": "https://localhost:8080/"
        },
        "id": "3ceMcyV1TpQq",
        "outputId": "1ed90d1a-66bb-4238-b968-3da9ae477787"
      },
      "execution_count": 5,
      "outputs": [
        {
          "output_type": "execute_result",
          "data": {
            "text/plain": [
              "['Models/02 Boosting-PDR.joblib']"
            ]
          },
          "metadata": {},
          "execution_count": 5
        }
      ]
    },
    {
      "cell_type": "markdown",
      "source": [
        "### Gradient Boosting model creation - predictor of 4 variables"
      ],
      "metadata": {
        "id": "8Y6c2KXod3Mg"
      }
    },
    {
      "cell_type": "code",
      "source": [
        "# Seleziona le feature di input e il target\n",
        "input_features = ['Delay', 'PDR', 'DeviceID']\n",
        "target_features = ['TTL', 'TransmissionPower', 'TransmissionsNumber', 'IntervalTime']\n",
        "\n",
        "# Crea il dataset di training e testing con tutte le feature\n",
        "X = dataset[input_features]\n",
        "y = dataset[target_features]\n",
        "\n",
        "# Crea il modello per la previsione di tutti i target\n",
        "model = xgb.XGBRegressor()\n",
        "model.fit(X, y)\n",
        "\n",
        "dump(model, 'Models/03 Boosting.joblib')"
      ],
      "metadata": {
        "colab": {
          "base_uri": "https://localhost:8080/"
        },
        "id": "4P6IGoPieAno",
        "outputId": "243e2ef2-52de-4214-bc71-c915e433d844"
      },
      "execution_count": 6,
      "outputs": [
        {
          "output_type": "execute_result",
          "data": {
            "text/plain": [
              "['Models/03 Boosting.joblib']"
            ]
          },
          "metadata": {},
          "execution_count": 6
        }
      ]
    },
    {
      "cell_type": "markdown",
      "source": [
        "### Gradient Boosting model creation - predictor of 3 variables"
      ],
      "metadata": {
        "id": "coReZ2xBhkUI"
      }
    },
    {
      "cell_type": "markdown",
      "source": [
        "#### Delay - PDR - DeviceID - TTL"
      ],
      "metadata": {
        "id": "UMrx2zxjhyIk"
      }
    },
    {
      "cell_type": "code",
      "source": [
        "# Seleziona le feature di input e il target\n",
        "input_features = ['Delay', 'PDR', 'DeviceID', 'TTL']\n",
        "target_features = ['TransmissionPower', 'TransmissionsNumber', 'IntervalTime']\n",
        "\n",
        "# Crea il dataset di training e testing con tutte le feature\n",
        "X = dataset[input_features]\n",
        "y = dataset[target_features]\n",
        "\n",
        "# Crea il modello per la previsione di tutti i target\n",
        "model = xgb.XGBRegressor()\n",
        "model.fit(X, y)\n",
        "\n",
        "dump(model, 'Models/04 Boosting - TTL.joblib')"
      ],
      "metadata": {
        "colab": {
          "base_uri": "https://localhost:8080/"
        },
        "id": "LHcDHyIbiQsZ",
        "outputId": "a7a93ad8-6d65-44b9-b504-b18a1ef92a25"
      },
      "execution_count": 7,
      "outputs": [
        {
          "output_type": "execute_result",
          "data": {
            "text/plain": [
              "['Models/04 Boosting - TTL.joblib']"
            ]
          },
          "metadata": {},
          "execution_count": 7
        }
      ]
    },
    {
      "cell_type": "markdown",
      "source": [
        "#### Delay - PDR - DeviceID - TransmissionPower"
      ],
      "metadata": {
        "id": "ChOJ9_shh3tT"
      }
    },
    {
      "cell_type": "code",
      "source": [
        "# Seleziona le feature di input e il target\n",
        "input_features = ['Delay', 'PDR', 'DeviceID', 'TransmissionPower']\n",
        "target_features = ['TTL', 'TransmissionsNumber', 'IntervalTime']\n",
        "\n",
        "# Crea il dataset di training e testing con tutte le feature\n",
        "X = dataset[input_features]\n",
        "y = dataset[target_features]\n",
        "\n",
        "# Crea il modello per la previsione di tutti i target\n",
        "model = xgb.XGBRegressor()\n",
        "model.fit(X, y)\n",
        "\n",
        "dump(model, 'Models/05 Boosting - TransmissionPower.joblib')"
      ],
      "metadata": {
        "colab": {
          "base_uri": "https://localhost:8080/"
        },
        "id": "TIWWEppUieXc",
        "outputId": "b433dc14-3749-46c2-d852-f785a0e53934"
      },
      "execution_count": 8,
      "outputs": [
        {
          "output_type": "execute_result",
          "data": {
            "text/plain": [
              "['Models/05 Boosting - TransmissionPower.joblib']"
            ]
          },
          "metadata": {},
          "execution_count": 8
        }
      ]
    },
    {
      "cell_type": "markdown",
      "source": [
        "#### Delay - PDR - Delay - TransmissionsNumber"
      ],
      "metadata": {
        "id": "ZrHVwv6uh_hc"
      }
    },
    {
      "cell_type": "code",
      "source": [
        "# Seleziona le feature di input e il target\n",
        "input_features = ['Delay', 'PDR', 'DeviceID', 'TransmissionsNumber']\n",
        "target_features = ['TTL', 'TransmissionPower', 'IntervalTime']\n",
        "\n",
        "# Crea il dataset di training e testing con tutte le feature\n",
        "X = dataset[input_features]\n",
        "y = dataset[target_features]\n",
        "\n",
        "# Crea il modello per la previsione di tutti i target\n",
        "model = xgb.XGBRegressor()\n",
        "model.fit(X, y)\n",
        "\n",
        "dump(model, 'Models/06 Boosting - TransmissionsNumber.joblib')"
      ],
      "metadata": {
        "colab": {
          "base_uri": "https://localhost:8080/"
        },
        "id": "rKo_c7JIjZCT",
        "outputId": "9763751a-7f70-4eea-ab2c-22b1fb4b974d"
      },
      "execution_count": 9,
      "outputs": [
        {
          "output_type": "execute_result",
          "data": {
            "text/plain": [
              "['Models/06 Boosting - TransmissionsNumber.joblib']"
            ]
          },
          "metadata": {},
          "execution_count": 9
        }
      ]
    },
    {
      "cell_type": "markdown",
      "source": [
        "#### Delay - PDR - DeviceID - IntervalTime"
      ],
      "metadata": {
        "id": "h6YZJjx-iICX"
      }
    },
    {
      "cell_type": "code",
      "source": [
        "# Seleziona le feature di input e il target\n",
        "input_features = ['Delay', 'PDR', 'DeviceID', 'IntervalTime']\n",
        "target_features = ['TTL', 'TransmissionPower', 'TransmissionsNumber']\n",
        "\n",
        "# Crea il dataset di training e testing con tutte le feature\n",
        "X = dataset[input_features]\n",
        "y = dataset[target_features]\n",
        "\n",
        "# Crea il modello per la previsione di tutti i target\n",
        "model = xgb.XGBRegressor()\n",
        "model.fit(X, y)\n",
        "\n",
        "dump(model, 'Models/07 Boosting - IntervalTime.joblib')"
      ],
      "metadata": {
        "id": "Jt1uF5JWjmHD",
        "colab": {
          "base_uri": "https://localhost:8080/"
        },
        "outputId": "391f122d-7935-4bd7-ad89-2065f748c9d7"
      },
      "execution_count": 10,
      "outputs": [
        {
          "output_type": "execute_result",
          "data": {
            "text/plain": [
              "['Models/07 Boosting - IntervalTime.joblib']"
            ]
          },
          "metadata": {},
          "execution_count": 10
        }
      ]
    },
    {
      "cell_type": "markdown",
      "source": [
        "### Decision Tree model creation - Predictor of 2 variables"
      ],
      "metadata": {
        "id": "baQVnTcQjtxU"
      }
    },
    {
      "cell_type": "markdown",
      "source": [
        "#### Delay - PDR - DeviceID - TTL - TransmissionPower"
      ],
      "metadata": {
        "id": "dKhkWz0xj4fZ"
      }
    },
    {
      "cell_type": "code",
      "source": [
        "# Seleziona le feature di input e il target\n",
        "input_features = ['Delay', 'PDR', 'DeviceID', 'TTL', 'TransmissionPower']\n",
        "target_features = ['TransmissionsNumber', 'IntervalTime']\n",
        "\n",
        "# Crea il dataset di training e testing con tutte le feature\n",
        "X = dataset[input_features]\n",
        "y = dataset[target_features]\n",
        "\n",
        "# Crea il modello per la previsione di tutti i target\n",
        "model = xgb.XGBRegressor()\n",
        "model.fit(X, y)\n",
        "\n",
        "dump(model, 'Models/08 Boosting-TTL-TransmissionPower.joblib')"
      ],
      "metadata": {
        "colab": {
          "base_uri": "https://localhost:8080/"
        },
        "id": "uIJOuR01j1us",
        "outputId": "7534adf4-7e70-4d64-f1f1-44c6cc33b3cb"
      },
      "execution_count": 11,
      "outputs": [
        {
          "output_type": "execute_result",
          "data": {
            "text/plain": [
              "['Models/08 Boosting-TTL-TransmissionPower.joblib']"
            ]
          },
          "metadata": {},
          "execution_count": 11
        }
      ]
    },
    {
      "cell_type": "markdown",
      "source": [
        "#### Delay - PDR - DeviceID - TTL - TransmissionsNumber"
      ],
      "metadata": {
        "id": "zlUcX0SHkEqC"
      }
    },
    {
      "cell_type": "code",
      "source": [
        "# Seleziona le feature di input e il target\n",
        "input_features = [\"Delay\", \"PDR\", \"DeviceID\", \"TTL\", \"TransmissionsNumber\"]\n",
        "target_features = [\"TransmissionPower\", \"IntervalTime\"]\n",
        "\n",
        "# Crea il dataset di training e testing con tutte le feature\n",
        "X = dataset[input_features]\n",
        "y = dataset[target_features]\n",
        "\n",
        "# Crea il modello per la previsione di tutti i target\n",
        "model = xgb.XGBRegressor()\n",
        "model.fit(X, y)\n",
        "\n",
        "dump(model, 'Models/09 Boosting-TTL-TransmissionsNumber.joblib')"
      ],
      "metadata": {
        "colab": {
          "base_uri": "https://localhost:8080/"
        },
        "id": "Y_55IUfDlHmP",
        "outputId": "70edd4ac-e212-478a-f05d-264e8fdbbfc7"
      },
      "execution_count": 12,
      "outputs": [
        {
          "output_type": "execute_result",
          "data": {
            "text/plain": [
              "['Models/09 Boosting-TTL-TransmissionsNumber.joblib']"
            ]
          },
          "metadata": {},
          "execution_count": 12
        }
      ]
    },
    {
      "cell_type": "markdown",
      "source": [
        "#### Delay - PDR - DeviceID - TTL - IntervalTime"
      ],
      "metadata": {
        "id": "kmcXEmDxkK3s"
      }
    },
    {
      "cell_type": "code",
      "source": [
        "# Seleziona le feature di input e il target\n",
        "input_features = [\"Delay\", \"PDR\", \"DeviceID\", \"TTL\", \"IntervalTime\"]\n",
        "target_features = [\"TransmissionPower\", \"TransmissionsNumber\"]\n",
        "\n",
        "# Crea il dataset di training e testing con tutte le feature\n",
        "X = dataset[input_features]\n",
        "y = dataset[target_features]\n",
        "\n",
        "# Crea il modello per la previsione di tutti i target\n",
        "model = xgb.XGBRegressor()\n",
        "model.fit(X, y)\n",
        "\n",
        "dump(model, 'Models/10 Boosting-TTL-IntervalTime.joblib')"
      ],
      "metadata": {
        "colab": {
          "base_uri": "https://localhost:8080/"
        },
        "id": "ibSYtEdzlTfJ",
        "outputId": "f4ac3d98-5888-412b-da38-194cf1acca84"
      },
      "execution_count": 13,
      "outputs": [
        {
          "output_type": "execute_result",
          "data": {
            "text/plain": [
              "['Models/10 Boosting-TTL-IntervalTime.joblib']"
            ]
          },
          "metadata": {},
          "execution_count": 13
        }
      ]
    },
    {
      "cell_type": "markdown",
      "source": [
        "#### Delay - PDR - DeviceID - TransmissionPower - TransmissionsNumber"
      ],
      "metadata": {
        "id": "T4nkci3WkTTE"
      }
    },
    {
      "cell_type": "code",
      "source": [
        "# Seleziona le feature di input e il target\n",
        "input_features = [\"Delay\", \"PDR\", \"DeviceID\", \"TransmissionPower\", \"TransmissionsNumber\"]\n",
        "target_features = [\"TTL\", \"IntervalTime\"]\n",
        "\n",
        "# Crea il dataset di training e testing con tutte le feature\n",
        "X = dataset[input_features]\n",
        "y = dataset[target_features]\n",
        "\n",
        "# Crea il modello per la previsione di tutti i target\n",
        "model = xgb.XGBRegressor()\n",
        "model.fit(X, y)\n",
        "\n",
        "dump(model, 'Models/11 Boosting-TransmissionPower-TransmissionsNumber.joblib')"
      ],
      "metadata": {
        "colab": {
          "base_uri": "https://localhost:8080/"
        },
        "id": "-cGbVFLulgl2",
        "outputId": "a2955c4a-ee6f-494f-a0f9-7410d5daed83"
      },
      "execution_count": 14,
      "outputs": [
        {
          "output_type": "execute_result",
          "data": {
            "text/plain": [
              "['Models/11 Boosting-TransmissionPower-TransmissionsNumber.joblib']"
            ]
          },
          "metadata": {},
          "execution_count": 14
        }
      ]
    },
    {
      "cell_type": "markdown",
      "source": [
        "#### Delay - PDR - TransmissionPower - IntervalTime"
      ],
      "metadata": {
        "id": "3byG9ERIkbDK"
      }
    },
    {
      "cell_type": "code",
      "source": [
        "# Seleziona le feature di input e il target\n",
        "input_features = [\"Delay\", \"PDR\", \"DeviceID\", \"TransmissionPower\", \"IntervalTime\"]\n",
        "target_features = [\"TTL\", \"TransmissionsNumber\"]\n",
        "\n",
        "# Crea il dataset di training e testing con tutte le feature\n",
        "X = dataset[input_features]\n",
        "y = dataset[target_features]\n",
        "\n",
        "# Crea il modello per la previsione di tutti i target\n",
        "model = xgb.XGBRegressor()\n",
        "model.fit(X, y)\n",
        "\n",
        "dump(model, 'Models/12 Boosting-TransmissionPower-IntervalTime.joblib')"
      ],
      "metadata": {
        "colab": {
          "base_uri": "https://localhost:8080/"
        },
        "id": "nH6zFHXElyl_",
        "outputId": "5894cde2-d78a-45b7-dd6f-5bd59e121019"
      },
      "execution_count": 15,
      "outputs": [
        {
          "output_type": "execute_result",
          "data": {
            "text/plain": [
              "['Models/12 Boosting-TransmissionPower-IntervalTime.joblib']"
            ]
          },
          "metadata": {},
          "execution_count": 15
        }
      ]
    },
    {
      "cell_type": "markdown",
      "source": [
        "#### Delay - PDR - DeviceID - TransmissionsNumber - IntervalTime"
      ],
      "metadata": {
        "id": "DXl0GpN1kjnC"
      }
    },
    {
      "cell_type": "code",
      "source": [
        "# Seleziona le feature di input e il target\n",
        "input_features = [\"Delay\", \"PDR\", \"DeviceID\", \"TransmissionsNumber\", \"IntervalTime\"]\n",
        "target_features = [\"TTL\", \"TransmissionPower\"]\n",
        "\n",
        "# Crea il dataset di training e testing con tutte le feature\n",
        "X = dataset[input_features]\n",
        "y = dataset[target_features]\n",
        "\n",
        "# Crea il modello per la previsione di tutti i target\n",
        "model = xgb.XGBRegressor()\n",
        "model.fit(X, y)\n",
        "\n",
        "dump(model, 'Models/13 Boosting-TransmissionsNumber-IntervalTime.joblib')"
      ],
      "metadata": {
        "id": "hbQrVQ_KmAKd",
        "colab": {
          "base_uri": "https://localhost:8080/"
        },
        "outputId": "2c56755e-91c9-4111-b7c0-7760e6c3ff4b"
      },
      "execution_count": 16,
      "outputs": [
        {
          "output_type": "execute_result",
          "data": {
            "text/plain": [
              "['Models/13 Boosting-TransmissionsNumber-IntervalTime.joblib']"
            ]
          },
          "metadata": {},
          "execution_count": 16
        }
      ]
    },
    {
      "cell_type": "markdown",
      "source": [
        "### Decision Tree Model Creation - Predictor of 1 variable"
      ],
      "metadata": {
        "id": "PeROyCTKmO0g"
      }
    },
    {
      "cell_type": "markdown",
      "source": [
        "#### Delay - PDR - DeviceID - TTL - TransmissionPower - TransmissionsNumber"
      ],
      "metadata": {
        "id": "If7IAeiamZ0U"
      }
    },
    {
      "cell_type": "code",
      "source": [
        "# Seleziona le feature di input e il target\n",
        "input_features = [\"Delay\", \"PDR\", \"DeviceID\", \"TTL\", \"TransmissionPower\", \"TransmissionsNumber\"]\n",
        "target_features = [\"IntervalTime\"]\n",
        "\n",
        "# Crea il dataset di training e testing con tutte le feature\n",
        "X = dataset[input_features]\n",
        "y = dataset[target_features]\n",
        "\n",
        "# Crea il modello per la previsione di tutti i target\n",
        "model = xgb.XGBRegressor()\n",
        "model.fit(X, y)\n",
        "\n",
        "dump(model, 'Models/14 Boosting-TTL-TransmissionPower-TransmissionsNumber.joblib')"
      ],
      "metadata": {
        "colab": {
          "base_uri": "https://localhost:8080/"
        },
        "id": "eNGWVT_-muWG",
        "outputId": "8853504e-d261-453e-b114-ff36fac8f481"
      },
      "execution_count": 17,
      "outputs": [
        {
          "output_type": "execute_result",
          "data": {
            "text/plain": [
              "['Models/14 Boosting-TTL-TransmissionPower-TransmissionsNumber.joblib']"
            ]
          },
          "metadata": {},
          "execution_count": 17
        }
      ]
    },
    {
      "cell_type": "markdown",
      "source": [
        "#### Delay - PDR - DeviceID - TTL - TransmissionPower - IntervalTime"
      ],
      "metadata": {
        "id": "yayUEgERmccH"
      }
    },
    {
      "cell_type": "code",
      "source": [
        "# Seleziona le feature di input e il target\n",
        "input_features = [\"Delay\", \"PDR\", \"DeviceID\", \"TTL\", \"TransmissionPower\", \"IntervalTime\"]\n",
        "target_features = [\"TransmissionsNumber\"]\n",
        "\n",
        "# Crea il dataset di training e testing con tutte le feature\n",
        "X = dataset[input_features]\n",
        "y = dataset[target_features]\n",
        "\n",
        "# Crea il modello per la previsione di tutti i target\n",
        "model = xgb.XGBRegressor()\n",
        "model.fit(X, y)\n",
        "\n",
        "dump(model, 'Models/15 Boosting-TTL-TransmissionPower-IntervalTime.joblib')"
      ],
      "metadata": {
        "colab": {
          "base_uri": "https://localhost:8080/"
        },
        "id": "jE6PUmOanAFV",
        "outputId": "10133a08-9e48-40ea-e758-4e76ff66cbf3"
      },
      "execution_count": 18,
      "outputs": [
        {
          "output_type": "execute_result",
          "data": {
            "text/plain": [
              "['Models/15 Boosting-TTL-TransmissionPower-IntervalTime.joblib']"
            ]
          },
          "metadata": {},
          "execution_count": 18
        }
      ]
    },
    {
      "cell_type": "markdown",
      "source": [
        "#### Delay - PDR - DeviceID - TTL - TransmissionsNumber - IntervalTime"
      ],
      "metadata": {
        "id": "nzp0VLTYmfNV"
      }
    },
    {
      "cell_type": "code",
      "source": [
        "# Seleziona le feature di input e il target\n",
        "input_features = [\"Delay\", \"PDR\", \"DeviceID\", \"TTL\", \"TransmissionsNumber\", \"IntervalTime\"]\n",
        "target_features = [\"TransmissionPower\"]\n",
        "\n",
        "# Crea il dataset di training e testing con tutte le feature\n",
        "X = dataset[input_features]\n",
        "y = dataset[target_features]\n",
        "\n",
        "# Crea il modello per la previsione di tutti i target\n",
        "model = xgb.XGBRegressor()\n",
        "model.fit(X, y)\n",
        "\n",
        "dump(model, 'Models/16 Boosting-TTL-TransmissionsNumber-IntervalTime.joblib')"
      ],
      "metadata": {
        "colab": {
          "base_uri": "https://localhost:8080/"
        },
        "id": "FGZy8n9OnsgT",
        "outputId": "d96ae11a-34b9-46a8-c8e8-b85498e68505"
      },
      "execution_count": 19,
      "outputs": [
        {
          "output_type": "execute_result",
          "data": {
            "text/plain": [
              "['Models/16 Boosting-TTL-TransmissionsNumber-IntervalTime.joblib']"
            ]
          },
          "metadata": {},
          "execution_count": 19
        }
      ]
    },
    {
      "cell_type": "markdown",
      "source": [
        "#### Delay - PDR - DeviceID - TransmissionPower - TransmissionsNumber - IntervalTime"
      ],
      "metadata": {
        "id": "Il6Ljq1tmnm-"
      }
    },
    {
      "cell_type": "code",
      "source": [
        "# Seleziona le feature di input e il target\n",
        "input_features = [\"Delay\", \"PDR\", \"DeviceID\", \"TransmissionPower\", \"TransmissionsNumber\", \"IntervalTime\"]\n",
        "target_features = [\"TTL\"]\n",
        "\n",
        "# Crea il dataset di training e testing con tutte le feature\n",
        "X = dataset[input_features]\n",
        "y = dataset[target_features]\n",
        "\n",
        "# Crea il modello per la previsione di tutti i target\n",
        "model = xgb.XGBRegressor()\n",
        "model.fit(X, y)\n",
        "\n",
        "dump(model, 'Models/17 Boosting-TransmissionPower-TransmissionsNumber-IntervalTime.joblib')"
      ],
      "metadata": {
        "colab": {
          "base_uri": "https://localhost:8080/"
        },
        "id": "LyQTobN0n5_6",
        "outputId": "fcc88dbd-0bb4-4616-f642-c7fc2321ef19"
      },
      "execution_count": 20,
      "outputs": [
        {
          "output_type": "execute_result",
          "data": {
            "text/plain": [
              "['Models/17 Boosting-TransmissionPower-TransmissionsNumber-IntervalTime.joblib']"
            ]
          },
          "metadata": {},
          "execution_count": 20
        }
      ]
    },
    {
      "cell_type": "markdown",
      "source": [
        "## Prediction"
      ],
      "metadata": {
        "id": "5um61m-fPSm-"
      }
    },
    {
      "cell_type": "markdown",
      "source": [
        "### Prediction of 5 variables"
      ],
      "metadata": {
        "id": "zrgAFnq5PY6u"
      }
    },
    {
      "cell_type": "markdown",
      "source": [
        "#### Prediction of 5 variables - Delay"
      ],
      "metadata": {
        "id": "DYBzeqTFPsHm"
      }
    },
    {
      "cell_type": "code",
      "source": [
        "# Carica il modello addestrato\n",
        "clf = load('Models/01 Boosting-Delay.joblib')\n",
        "\n",
        "# Combinazione di tutti i parametri\n",
        "combinations = list(itertools.product(DelayValues, DeviceID))\n",
        "dataframeInput = pd.DataFrame(combinations)\n",
        "header = ['Delay', 'DeviceID']\n",
        "dataframeInput.columns = header\n",
        "\n",
        "prediction = clf.predict(dataframeInput)\n",
        "output = []\n",
        "for index, inputRow in dataframeInput.iterrows():\n",
        "    # print(f\"Index: {index}\")\n",
        "    # print(f\"Delay: {row['Delay']}\")\n",
        "    # print(f\"DeviceID: {row['DeviceID']}\")\n",
        "    # print()\n",
        "    row = []\n",
        "    DelayValue = float(inputRow['Delay'])\n",
        "    IDNodo = int(inputRow['DeviceID'])\n",
        "    # TTL = round(prediction[i][0])\n",
        "    TTL = min(TTLValueSet, key=lambda x: abs(x - prediction[index][0]))\n",
        "    # TransmissionPower = round(prediction[i][1])\n",
        "    TransmissionPower =  min(TPValueSet, key=lambda x: abs(x - prediction[index][1]))\n",
        "    # TransmissionsNumber = round(prediction[i][2])\n",
        "    TransmissionsNumber =  min(TNValueSet, key=lambda x: abs(x - prediction[index][2]))\n",
        "    # IntervalTime = round(prediction[i][3])\n",
        "    IntervalTime = min(TIValueSet, key=lambda x: abs(x - prediction[index][3]))\n",
        "    \n",
        "    row.append(DelayValue)\n",
        "    row.append(IDNodo)\n",
        "    row.append(TTL)\n",
        "    row.append(TransmissionPower)\n",
        "    row.append(TransmissionsNumber)\n",
        "    row.append(IntervalTime)\n",
        "    output.append(row)\n",
        "  \n",
        "# print(output)\n",
        "dataframeOutput = pd.DataFrame(output)\n",
        "header = ['Delay (ms)', 'NodeId', 'TTL', 'Potenza di trasmissione', 'Numero di trasmissioni', 'Intervallo tra le trasmissioni']\n",
        "dataframeOutput.columns = header\n",
        "\n",
        "# Esportare in un file CSV\n",
        "dataframeOutput.to_csv('Results/01 Boosting-Delay.csv', index=False)"
      ],
      "metadata": {
        "id": "ON2zzAoJQsIB"
      },
      "execution_count": 21,
      "outputs": []
    },
    {
      "cell_type": "markdown",
      "source": [
        "#### Prediction of 5 variables - PDR"
      ],
      "metadata": {
        "id": "LgRslERKT3xw"
      }
    },
    {
      "cell_type": "code",
      "source": [
        "# Carica il modello addestrato\n",
        "clf = load('Models/02 Boosting-PDR.joblib')\n",
        "\n",
        "# Combinazione di tutti i parametri\n",
        "combinations = list(itertools.product(PDRValues, DeviceID))\n",
        "dataframeInput = pd.DataFrame(combinations)\n",
        "header = ['PDR', 'DeviceID']\n",
        "dataframeInput.columns = header\n",
        "\n",
        "prediction = clf.predict(dataframeInput)\n",
        "output = []\n",
        "for index, inputRow in dataframeInput.iterrows():\n",
        "    row = []\n",
        "    PDRValue = inputRow['PDR']\n",
        "    IDNodo = int(inputRow['DeviceID'])\n",
        "    TTL = min(TTLValueSet, key=lambda x: abs(x - prediction[index][0]))\n",
        "    TransmissionPower =  min(TPValueSet, key=lambda x: abs(x - prediction[index][1]))\n",
        "    TransmissionsNumber =  min(TNValueSet, key=lambda x: abs(x - prediction[index][2]))\n",
        "    IntervalTime = min(TIValueSet, key=lambda x: abs(x - prediction[index][3]))\n",
        "    \n",
        "    row.append(PDRValue)\n",
        "    row.append(IDNodo)\n",
        "    row.append(TTL)\n",
        "    row.append(TransmissionPower)\n",
        "    row.append(TransmissionsNumber)\n",
        "    row.append(IntervalTime)\n",
        "    output.append(row)\n",
        "  \n",
        "# print(output)\n",
        "dataframeOutput = pd.DataFrame(output)\n",
        "header = ['PDR', 'NodeId', 'TTL', 'Potenza di trasmissione', 'Numero di trasmissioni', 'Intervallo tra le trasmissioni']\n",
        "dataframeOutput.columns = header\n",
        "\n",
        "# Esportare in un file CSV\n",
        "dataframeOutput.to_csv('Results/02 Boosting-PDR.csv', index=False)"
      ],
      "metadata": {
        "id": "7bxfMKSjUC8P"
      },
      "execution_count": 22,
      "outputs": []
    },
    {
      "cell_type": "markdown",
      "source": [
        "### Predictior of 4 variables "
      ],
      "metadata": {
        "id": "Oc8kQSDce6p0"
      }
    },
    {
      "cell_type": "code",
      "source": [
        "# Carica il modello addestrato\n",
        "clf = load('Models/03 Boosting.joblib')\n",
        "\n",
        "# Combinazione di tutti i parametri\n",
        "combinations = list(itertools.product(DelayValues, PDRValues, DeviceID))\n",
        "dataframeInput = pd.DataFrame(combinations)\n",
        "header = ['Delay', 'PDR', 'DeviceID']\n",
        "dataframeInput.columns = header\n",
        "\n",
        "prediction = clf.predict(dataframeInput)\n",
        "output = []\n",
        "for index, inputRow in dataframeInput.iterrows():\n",
        "    row = []\n",
        "    DelayValue = float(inputRow['Delay'])\n",
        "    PDRValue = float(inputRow['PDR'])\n",
        "    IDNodo = int(inputRow['DeviceID'])\n",
        "    TTL = min(TTLValueSet, key=lambda x: abs(x - prediction[index][0]))\n",
        "    TransmissionPower =  min(TPValueSet, key=lambda x: abs(x - prediction[index][1]))\n",
        "    TransmissionsNumber =  min(TNValueSet, key=lambda x: abs(x - prediction[index][2]))\n",
        "    IntervalTime = min(TIValueSet, key=lambda x: abs(x - prediction[index][3]))\n",
        "    \n",
        "    row.append(DelayValue)\n",
        "    row.append(PDRValue)\n",
        "    row.append(IDNodo)\n",
        "    row.append(TTL)\n",
        "    row.append(TransmissionPower)\n",
        "    row.append(TransmissionsNumber)\n",
        "    row.append(IntervalTime)\n",
        "    output.append(row)\n",
        "  \n",
        "# print(output)\n",
        "dataframeOutput = pd.DataFrame(output)\n",
        "header = ['Delay (ms)', 'PDR', 'NodeId', 'TTL', 'Potenza di trasmissione', 'Numero di trasmissioni', 'Intervallo tra le trasmissioni']\n",
        "dataframeOutput.columns = header\n",
        "\n",
        "# Esportare in un file CSV\n",
        "dataframeOutput.to_csv('Results/03 Boosting.csv', index=False)"
      ],
      "metadata": {
        "id": "jseoEIwOfCji"
      },
      "execution_count": 23,
      "outputs": []
    },
    {
      "cell_type": "markdown",
      "source": [
        "### Predictor of 3 variables"
      ],
      "metadata": {
        "id": "srCncgq9hIuY"
      }
    },
    {
      "cell_type": "markdown",
      "source": [
        "#### Prediction of 3 variables - TTL"
      ],
      "metadata": {
        "id": "GlO_EnnchNLD"
      }
    },
    {
      "cell_type": "code",
      "source": [
        "# Carica il modello addestrato\n",
        "clf = load('Models/04 Boosting - TTL.joblib')\n",
        "\n",
        "# Combinazione di tutti i parametri\n",
        "combinations = list(itertools.product(DelayValues, PDRValues, DeviceID, TTLValues))\n",
        "dataframeInput = pd.DataFrame(combinations)\n",
        "header = ['Delay', 'PDR', 'DeviceID', 'TTL']\n",
        "dataframeInput.columns = header\n",
        "\n",
        "prediction = clf.predict(dataframeInput)\n",
        "output = []\n",
        "for index, inputRow in dataframeInput.iterrows():\n",
        "    row = []\n",
        "    DelayValue = float(inputRow['Delay'])\n",
        "    PDRValue = float(inputRow['PDR'])\n",
        "    IDNodo = int(inputRow['DeviceID'])\n",
        "    TTL = int(inputRow['TTL'])\n",
        "    TransmissionPower =  min(TPValueSet, key=lambda x: abs(x - prediction[index][0]))\n",
        "    TransmissionsNumber =  min(TNValueSet, key=lambda x: abs(x - prediction[index][1]))\n",
        "    IntervalTime = min(TIValueSet, key=lambda x: abs(x - prediction[index][2]))\n",
        "    \n",
        "    row.append(DelayValue)\n",
        "    row.append(PDRValue)\n",
        "    row.append(IDNodo)\n",
        "    row.append(TTL)\n",
        "    row.append(TransmissionPower)\n",
        "    row.append(TransmissionsNumber)\n",
        "    row.append(IntervalTime)\n",
        "    output.append(row)\n",
        "  \n",
        "# print(output)\n",
        "dataframeOutput = pd.DataFrame(output)\n",
        "header = ['Delay (ms)', 'PDR', 'NodeId', 'TTL', 'Potenza di trasmissione', 'Numero di trasmissioni', 'Intervallo tra le trasmissioni']\n",
        "dataframeOutput.columns = header\n",
        "\n",
        "# Esportare in un file CSV\n",
        "dataframeOutput.to_csv('Results/04 Boosting-TTL.csv', index=False)"
      ],
      "metadata": {
        "id": "5Vq65jJHp8SL"
      },
      "execution_count": 24,
      "outputs": []
    },
    {
      "cell_type": "markdown",
      "source": [
        "#### Prediction of 3 variables - TransmissionPower"
      ],
      "metadata": {
        "id": "Vgfe24VZp7z1"
      }
    },
    {
      "cell_type": "code",
      "source": [
        "# Carica il modello addestrato\n",
        "clf = load('Models/05 Boosting - TransmissionPower.joblib')\n",
        "\n",
        "# Combinazione di tutti i parametri\n",
        "combinations = list(itertools.product(DelayValues, PDRValues, DeviceID, TransmissionPowerValues))\n",
        "dataframeInput = pd.DataFrame(combinations)\n",
        "header = ['Delay', 'PDR', 'DeviceID', 'TransmissionPower']\n",
        "dataframeInput.columns = header\n",
        "\n",
        "prediction = clf.predict(dataframeInput)\n",
        "output = []\n",
        "for index, inputRow in dataframeInput.iterrows():\n",
        "    row = []\n",
        "    DelayValue = float(inputRow['Delay'])\n",
        "    PDRValue = float(inputRow['PDR'])\n",
        "    IDNodo = int(inputRow['DeviceID'])\n",
        "    TTL = min(TTLValueSet, key=lambda x: abs(x - prediction[index][0]))\n",
        "    TransmissionPower =  int(inputRow['TransmissionPower'])\n",
        "    TransmissionsNumber =  min(TNValueSet, key=lambda x: abs(x - prediction[index][1]))\n",
        "    IntervalTime = min(TIValueSet, key=lambda x: abs(x - prediction[index][2]))\n",
        "    \n",
        "    row.append(DelayValue)\n",
        "    row.append(PDRValue)\n",
        "    row.append(IDNodo)\n",
        "    row.append(TTL)\n",
        "    row.append(TransmissionPower)\n",
        "    row.append(TransmissionsNumber)\n",
        "    row.append(IntervalTime)\n",
        "    output.append(row)\n",
        "  \n",
        "# print(output)\n",
        "dataframeOutput = pd.DataFrame(output)\n",
        "header = ['Delay (ms)', 'PDR', 'NodeId', 'TTL', 'Potenza di trasmissione', 'Numero di trasmissioni', 'Intervallo tra le trasmissioni']\n",
        "dataframeOutput.columns = header\n",
        "\n",
        "# Esportare in un file CSV\n",
        "dataframeOutput.to_csv('Results/05 Boosting-TransmissionPower.csv', index=False)"
      ],
      "metadata": {
        "id": "2ByEapA0qEZ5"
      },
      "execution_count": 25,
      "outputs": []
    },
    {
      "cell_type": "markdown",
      "source": [
        "#### Prediction of 3 variables - TransmissionsNumber"
      ],
      "metadata": {
        "id": "XPUjOfKxqE4p"
      }
    },
    {
      "cell_type": "code",
      "source": [
        "# Carica il modello addestrato\n",
        "clf = load('Models/06 Boosting - TransmissionsNumber.joblib')\n",
        "\n",
        "# Combinazione di tutti i parametri\n",
        "combinations = list(itertools.product(DelayValues, PDRValues, DeviceID, TransmissionNumberValues))\n",
        "dataframeInput = pd.DataFrame(combinations)\n",
        "header = ['Delay', 'PDR', 'DeviceID', 'TransmissionsNumber']\n",
        "dataframeInput.columns = header\n",
        "\n",
        "prediction = clf.predict(dataframeInput)\n",
        "output = []\n",
        "for index, inputRow in dataframeInput.iterrows():\n",
        "    row = []\n",
        "    DelayValue = float(inputRow['Delay'])\n",
        "    PDRValue = float(inputRow['PDR'])\n",
        "    IDNodo = int(inputRow['DeviceID'])\n",
        "    TTL = min(TTLValueSet, key=lambda x: abs(x - prediction[index][0]))\n",
        "    TransmissionPower =  min(TPValueSet, key=lambda x: abs(x - prediction[index][0]))\n",
        "    TransmissionsNumber =  int(inputRow['TransmissionsNumber'])\n",
        "    IntervalTime = min(TIValueSet, key=lambda x: abs(x - prediction[index][2]))\n",
        "    \n",
        "    row.append(DelayValue)\n",
        "    row.append(PDRValue)\n",
        "    row.append(IDNodo)\n",
        "    row.append(TTL)\n",
        "    row.append(TransmissionPower)\n",
        "    row.append(TransmissionsNumber)\n",
        "    row.append(IntervalTime)\n",
        "    output.append(row)\n",
        "  \n",
        "# print(output)\n",
        "dataframeOutput = pd.DataFrame(output)\n",
        "header = ['Delay (ms)', 'PDR', 'NodeId', 'TTL', 'Potenza di trasmissione', 'Numero di trasmissioni', 'Intervallo tra le trasmissioni']\n",
        "dataframeOutput.columns = header\n",
        "\n",
        "# Esportare in un file CSV\n",
        "dataframeOutput.to_csv('Results/06 Boosting-TransmissionsNumber.csv', index=False)"
      ],
      "metadata": {
        "id": "hc0vwA90qLey"
      },
      "execution_count": 26,
      "outputs": []
    },
    {
      "cell_type": "markdown",
      "source": [
        "#### Prediction of 3 variables - IntervalTime"
      ],
      "metadata": {
        "id": "Ynyc2DlnqL5b"
      }
    },
    {
      "cell_type": "code",
      "source": [
        "# Carica il modello addestrato\n",
        "clf = load('Models/07 Boosting - IntervalTime.joblib')\n",
        "\n",
        "# Combinazione di tutti i parametri\n",
        "combinations = list(itertools.product(DelayValues, PDRValues, DeviceID, IntervalTimeValues))\n",
        "dataframeInput = pd.DataFrame(combinations)\n",
        "header = ['Delay', 'PDR', 'DeviceID', 'IntervalTime']\n",
        "dataframeInput.columns = header\n",
        "\n",
        "prediction = clf.predict(dataframeInput)\n",
        "output = []\n",
        "for index, inputRow in dataframeInput.iterrows():\n",
        "    row = []\n",
        "    DelayValue = float(inputRow['Delay'])\n",
        "    PDRValue = float(inputRow['PDR'])\n",
        "    IDNodo = int(inputRow['DeviceID'])\n",
        "    TTL = min(TTLValueSet, key=lambda x: abs(x - prediction[index][0]))\n",
        "    TransmissionPower =  min(TPValueSet, key=lambda x: abs(x - prediction[index][0]))\n",
        "    TransmissionsNumber =  min(TNValueSet, key=lambda x: abs(x - prediction[index][2]))\n",
        "    IntervalTime = int(inputRow['IntervalTime'])\n",
        "    \n",
        "    row.append(DelayValue)\n",
        "    row.append(PDRValue)\n",
        "    row.append(IDNodo)\n",
        "    row.append(TTL)\n",
        "    row.append(TransmissionPower)\n",
        "    row.append(TransmissionsNumber)\n",
        "    row.append(IntervalTime)\n",
        "    output.append(row)\n",
        "  \n",
        "# print(output)\n",
        "dataframeOutput = pd.DataFrame(output)\n",
        "header = ['Delay (ms)', 'PDR', 'NodeId', 'TTL', 'Potenza di trasmissione', 'Numero di trasmissioni', 'Intervallo tra le trasmissioni']\n",
        "dataframeOutput.columns = header\n",
        "\n",
        "# Esportare in un file CSV\n",
        "dataframeOutput.to_csv('Results/07 Boosting-IntervalTime.csv', index=False)"
      ],
      "metadata": {
        "id": "3c7KcBDHqU2v"
      },
      "execution_count": 27,
      "outputs": []
    },
    {
      "cell_type": "markdown",
      "source": [
        "### Prediction of 2 variables"
      ],
      "metadata": {
        "id": "k7ARzcxl3fBW"
      }
    },
    {
      "cell_type": "markdown",
      "source": [
        "#### Predictior of 2 variables - TTL - TransmissionPower"
      ],
      "metadata": {
        "id": "9W8x7YN53ijI"
      }
    },
    {
      "cell_type": "code",
      "source": [
        "# Carica il modello addestrato\n",
        "clf = load('Models/08 Boosting-TTL-TransmissionPower.joblib')\n",
        "\n",
        "# Combinazione di tutti i parametri\n",
        "combinations = list(itertools.product(DelayValues, PDRValues, DeviceID, TTLValues, TransmissionPowerValues))\n",
        "dataframeInput = pd.DataFrame(combinations)\n",
        "header = ['Delay', 'PDR', 'DeviceID', 'TTL', 'TransmissionPower']\n",
        "dataframeInput.columns = header\n",
        "\n",
        "prediction = clf.predict(dataframeInput)\n",
        "output = []\n",
        "for index, inputRow in dataframeInput.iterrows():\n",
        "    row = []\n",
        "    DelayValue = float(inputRow['Delay'])\n",
        "    PDRValue = float(inputRow['PDR'])\n",
        "    IDNodo = int(inputRow['DeviceID'])\n",
        "    TTL = int(inputRow['TTL'])\n",
        "    TransmissionPower =  int(inputRow['TransmissionPower'])\n",
        "    TransmissionsNumber =  min(TNValueSet, key=lambda x: abs(x - prediction[index][0]))\n",
        "    IntervalTime = min(TIValueSet, key=lambda x: abs(x - prediction[index][1]))\n",
        "    \n",
        "    row.append(DelayValue)\n",
        "    row.append(PDRValue)\n",
        "    row.append(IDNodo)\n",
        "    row.append(TTL)\n",
        "    row.append(TransmissionPower)\n",
        "    row.append(TransmissionsNumber)\n",
        "    row.append(IntervalTime)\n",
        "    output.append(row)\n",
        "  \n",
        "# print(output)\n",
        "dataframeOutput = pd.DataFrame(output)\n",
        "header = ['Delay (ms)', 'PDR', 'NodeId', 'TTL', 'Potenza di trasmissione', 'Numero di trasmissioni', 'Intervallo tra le trasmissioni']\n",
        "dataframeOutput.columns = header\n",
        "\n",
        "# Esportare in un file CSV\n",
        "dataframeOutput.to_csv('Results/08 Boosting-TTL-TransmissionPower.csv', index=False)"
      ],
      "metadata": {
        "id": "moxw0owP32s-"
      },
      "execution_count": 28,
      "outputs": []
    },
    {
      "cell_type": "markdown",
      "source": [
        "#### Prediction of 2 variables - TTL - TransmissionsNumber"
      ],
      "metadata": {
        "id": "Cckpe7vv35WM"
      }
    },
    {
      "cell_type": "code",
      "source": [
        "# Carica il modello addestrato\n",
        "clf = load('Models/09 Boosting-TTL-TransmissionsNumber.joblib')\n",
        "\n",
        "# Combinazione di tutti i parametri\n",
        "combinations = list(itertools.product(DelayValues, PDRValues, DeviceID, TTLValues, TransmissionNumberValues))\n",
        "dataframeInput = pd.DataFrame(combinations)\n",
        "header = ['Delay', 'PDR', 'DeviceID', 'TTL', 'TransmissionsNumber']\n",
        "dataframeInput.columns = header\n",
        "\n",
        "prediction = clf.predict(dataframeInput)\n",
        "output = []\n",
        "for index, inputRow in dataframeInput.iterrows():\n",
        "    row = []\n",
        "    DelayValue = float(inputRow['Delay'])\n",
        "    PDRValue = float(inputRow['PDR'])\n",
        "    IDNodo = int(inputRow['DeviceID'])\n",
        "    TTL = int(inputRow['TTL'])\n",
        "    TransmissionPower =  min(TPValueSet, key=lambda x: abs(x - prediction[index][0]))\n",
        "    TransmissionsNumber =  int(inputRow['TransmissionsNumber'])\n",
        "    IntervalTime = min(TIValueSet, key=lambda x: abs(x - prediction[index][1]))\n",
        "    \n",
        "    row.append(DelayValue)\n",
        "    row.append(PDRValue)\n",
        "    row.append(IDNodo)\n",
        "    row.append(TTL)\n",
        "    row.append(TransmissionPower)\n",
        "    row.append(TransmissionsNumber)\n",
        "    row.append(IntervalTime)\n",
        "    output.append(row)\n",
        "  \n",
        "# print(output)\n",
        "dataframeOutput = pd.DataFrame(output)\n",
        "header = ['Delay (ms)', 'PDR', 'NodeId', 'TTL', 'Potenza di trasmissione', 'Numero di trasmissioni', 'Intervallo tra le trasmissioni']\n",
        "dataframeOutput.columns = header\n",
        "\n",
        "# Esportare in un file CSV\n",
        "dataframeOutput.to_csv('Results/09 Boosting-TTL-TransmissionsNumber.csv', index=False)"
      ],
      "metadata": {
        "id": "z8yTEyOc3_xt"
      },
      "execution_count": 29,
      "outputs": []
    },
    {
      "cell_type": "markdown",
      "source": [
        "#### Predictior of 2 variables - TTL - IntervalTime"
      ],
      "metadata": {
        "id": "DpKNaxib4AQe"
      }
    },
    {
      "cell_type": "code",
      "source": [
        "# Carica il modello addestrato\n",
        "clf = load('Models/10 Boosting-TTL-IntervalTime.joblib')\n",
        "\n",
        "# Combinazione di tutti i parametri\n",
        "combinations = list(itertools.product(DelayValues, PDRValues, DeviceID, TTLValues, IntervalTimeValues))\n",
        "dataframeInput = pd.DataFrame(combinations)\n",
        "header = ['Delay', 'PDR', 'DeviceID', 'TTL', 'IntervalTime']\n",
        "dataframeInput.columns = header\n",
        "\n",
        "prediction = clf.predict(dataframeInput)\n",
        "output = []\n",
        "for index, inputRow in dataframeInput.iterrows():\n",
        "    row = []\n",
        "    DelayValue = float(inputRow['Delay'])\n",
        "    PDRValue = float(inputRow['PDR'])\n",
        "    IDNodo = int(inputRow['DeviceID'])\n",
        "    TTL = int(inputRow['TTL'])\n",
        "    TransmissionPower =  min(TPValueSet, key=lambda x: abs(x - prediction[index][0]))\n",
        "    TransmissionsNumber =  min(TNValueSet, key=lambda x: abs(x - prediction[index][1]))\n",
        "    IntervalTime = int(inputRow['IntervalTime'])\n",
        "    \n",
        "    row.append(DelayValue)\n",
        "    row.append(PDRValue)\n",
        "    row.append(IDNodo)\n",
        "    row.append(TTL)\n",
        "    row.append(TransmissionPower)\n",
        "    row.append(TransmissionsNumber)\n",
        "    row.append(IntervalTime)\n",
        "    output.append(row)\n",
        "  \n",
        "# print(output)\n",
        "dataframeOutput = pd.DataFrame(output)\n",
        "header = ['Delay (ms)', 'PDR', 'NodeId', 'TTL', 'Potenza di trasmissione', 'Numero di trasmissioni', 'Intervallo tra le trasmissioni']\n",
        "dataframeOutput.columns = header\n",
        "\n",
        "# Esportare in un file CSV\n",
        "dataframeOutput.to_csv('Results/10 Boosting-TTL-IntervalTime.csv', index=False)"
      ],
      "metadata": {
        "id": "ap_7sx2M4G9O"
      },
      "execution_count": 30,
      "outputs": []
    },
    {
      "cell_type": "markdown",
      "source": [
        "#### Predictor of 2 variables - TransmissionPower - TransmissionsNumber"
      ],
      "metadata": {
        "id": "Z0SU5K_O4Hah"
      }
    },
    {
      "cell_type": "code",
      "source": [
        "# Carica il modello addestrato\n",
        "clf = load('Models/11 Boosting-TransmissionPower-TransmissionsNumber.joblib')\n",
        "\n",
        "# Combinazione di tutti i parametri\n",
        "combinations = list(itertools.product(DelayValues, PDRValues, DeviceID, TransmissionPowerValues, TransmissionNumberValues))\n",
        "dataframeInput = pd.DataFrame(combinations)\n",
        "header = ['Delay', 'PDR', 'DeviceID', 'TransmissionPower', 'TransmissionsNumber']\n",
        "dataframeInput.columns = header\n",
        "\n",
        "prediction = clf.predict(dataframeInput)\n",
        "output = []\n",
        "for index, inputRow in dataframeInput.iterrows():\n",
        "    row = []\n",
        "    DelayValue = float(inputRow['Delay'])\n",
        "    PDRValue = float(inputRow['PDR'])\n",
        "    IDNodo = int(inputRow['DeviceID'])\n",
        "    TTL = min(TTLValueSet, key=lambda x: abs(x - prediction[index][0]))\n",
        "    TransmissionPower =  int(inputRow['TransmissionPower'])\n",
        "    TransmissionsNumber =  int(inputRow['TransmissionsNumber'])\n",
        "    IntervalTime = min(TIValueSet, key=lambda x: abs(x - prediction[index][1]))\n",
        "    \n",
        "    row.append(DelayValue)\n",
        "    row.append(PDRValue)\n",
        "    row.append(IDNodo)\n",
        "    row.append(TTL)\n",
        "    row.append(TransmissionPower)\n",
        "    row.append(TransmissionsNumber)\n",
        "    row.append(IntervalTime)\n",
        "    output.append(row)\n",
        "  \n",
        "# print(output)\n",
        "dataframeOutput = pd.DataFrame(output)\n",
        "header = ['Delay (ms)', 'PDR', 'NodeId', 'TTL', 'Potenza di trasmissione', 'Numero di trasmissioni', 'Intervallo tra le trasmissioni']\n",
        "dataframeOutput.columns = header\n",
        "\n",
        "# Esportare in un file CSV\n",
        "dataframeOutput.to_csv('Results/11 Boosting-TransmissionPower-TransmissionsNumber.csv', index=False)"
      ],
      "metadata": {
        "id": "-GepZp7Z4VxQ"
      },
      "execution_count": 31,
      "outputs": []
    },
    {
      "cell_type": "markdown",
      "source": [
        "#### Predictor of 2 variables - TransmissionPower - IntervalTime"
      ],
      "metadata": {
        "id": "DYNqtL2z4XS0"
      }
    },
    {
      "cell_type": "code",
      "source": [
        "# Carica il modello addestrato\n",
        "clf = load('Models/12 Boosting-TransmissionPower-IntervalTime.joblib')\n",
        "\n",
        "# Combinazione di tutti i parametri\n",
        "combinations = list(itertools.product(DelayValues, PDRValues, DeviceID, TransmissionPowerValues, IntervalTimeValues))\n",
        "dataframeInput = pd.DataFrame(combinations)\n",
        "header = ['Delay', 'PDR', 'DeviceID', 'TransmissionPower', 'IntervalTime']\n",
        "dataframeInput.columns = header\n",
        "\n",
        "prediction = clf.predict(dataframeInput)\n",
        "output = []\n",
        "for index, inputRow in dataframeInput.iterrows():\n",
        "    row = []\n",
        "    DelayValue = float(inputRow['Delay'])\n",
        "    PDRValue = float(inputRow['PDR'])\n",
        "    IDNodo = int(inputRow['DeviceID'])\n",
        "    TTL = min(TTLValueSet, key=lambda x: abs(x - prediction[index][0]))\n",
        "    TransmissionPower =  int(inputRow['TransmissionPower'])\n",
        "    TransmissionsNumber =  min(TNValueSet, key=lambda x: abs(x - prediction[index][1]))\n",
        "    IntervalTime = int(inputRow['IntervalTime'])\n",
        "    \n",
        "    row.append(DelayValue)\n",
        "    row.append(PDRValue)\n",
        "    row.append(IDNodo)\n",
        "    row.append(TTL)\n",
        "    row.append(TransmissionPower)\n",
        "    row.append(TransmissionsNumber)\n",
        "    row.append(IntervalTime)\n",
        "    output.append(row)\n",
        "  \n",
        "# print(output)\n",
        "dataframeOutput = pd.DataFrame(output)\n",
        "header = ['Delay (ms)', 'PDR', 'NodeId', 'TTL', 'Potenza di trasmissione', 'Numero di trasmissioni', 'Intervallo tra le trasmissioni']\n",
        "dataframeOutput.columns = header\n",
        "\n",
        "# Esportare in un file CSV\n",
        "dataframeOutput.to_csv('Results/12 Boosting-TransmissionPower-IntervalTime.csv', index=False)"
      ],
      "metadata": {
        "id": "ykQaz73u4d9y"
      },
      "execution_count": 32,
      "outputs": []
    },
    {
      "cell_type": "markdown",
      "source": [
        "#### Predictor of 2 variables - TransmissionsNumber - IntervalTime"
      ],
      "metadata": {
        "id": "kJbxPOf14gwN"
      }
    },
    {
      "cell_type": "code",
      "source": [
        "# Carica il modello addestrato\n",
        "clf = load('Models/13 Boosting-TransmissionsNumber-IntervalTime.joblib')\n",
        "\n",
        "# Combinazione di tutti i parametri\n",
        "combinations = list(itertools.product(DelayValues, PDRValues, DeviceID, TransmissionNumberValues, IntervalTimeValues))\n",
        "dataframeInput = pd.DataFrame(combinations)\n",
        "header = ['Delay', 'PDR', 'DeviceID', 'TransmissionsNumber', 'IntervalTime']\n",
        "dataframeInput.columns = header\n",
        "\n",
        "prediction = clf.predict(dataframeInput)\n",
        "output = []\n",
        "for index, inputRow in dataframeInput.iterrows():\n",
        "    row = []\n",
        "    DelayValue = float(inputRow['Delay'])\n",
        "    PDRValue = float(inputRow['PDR'])\n",
        "    IDNodo = int(inputRow['DeviceID'])\n",
        "    TTL = min(TTLValueSet, key=lambda x: abs(x - prediction[index][0]))\n",
        "    TransmissionPower = min(TPValueSet, key=lambda x: abs(x - prediction[index][1]))\n",
        "    TransmissionsNumber =   int(inputRow['TransmissionsNumber'])\n",
        "    IntervalTime = int(inputRow['IntervalTime'])\n",
        "    \n",
        "    row.append(DelayValue)\n",
        "    row.append(PDRValue)\n",
        "    row.append(IDNodo)\n",
        "    row.append(TTL)\n",
        "    row.append(TransmissionPower)\n",
        "    row.append(TransmissionsNumber)\n",
        "    row.append(IntervalTime)\n",
        "    output.append(row)\n",
        "  \n",
        "# print(output)\n",
        "dataframeOutput = pd.DataFrame(output)\n",
        "header = ['Delay (ms)', 'PDR', 'NodeId', 'TTL', 'Potenza di trasmissione', 'Numero di trasmissioni', 'Intervallo tra le trasmissioni']\n",
        "dataframeOutput.columns = header\n",
        "\n",
        "# Esportare in un file CSV\n",
        "dataframeOutput.to_csv('Results/13 Boosting-TransmissionsNumber-IntervalTime.csv', index=False)"
      ],
      "metadata": {
        "id": "ALQ2Rmb34gEP"
      },
      "execution_count": 33,
      "outputs": []
    },
    {
      "cell_type": "markdown",
      "source": [
        "### Prediction of 1 variable"
      ],
      "metadata": {
        "id": "sqar_kgb_isS"
      }
    },
    {
      "cell_type": "markdown",
      "source": [
        "#### Prediction of 1 variable - TTL - TransmissionPower - TransmissionsNumber"
      ],
      "metadata": {
        "id": "au7Y1b9uAR4A"
      }
    },
    {
      "cell_type": "code",
      "source": [
        "# Carica il modello addestrato\n",
        "clf = load('Models/14 Boosting-TTL-TransmissionPower-TransmissionsNumber.joblib')\n",
        "\n",
        "# Combinazione di tutti i parametri\n",
        "combinations = list(itertools.product(DelayValues, PDRValues, DeviceID, TTLValues, TransmissionPowerValues, TransmissionNumberValues))\n",
        "dataframeInput = pd.DataFrame(combinations)\n",
        "header = ['Delay', 'PDR', 'DeviceID', 'TTL', 'TransmissionPower', 'TransmissionsNumber']\n",
        "dataframeInput.columns = header\n",
        "\n",
        "prediction = clf.predict(dataframeInput)\n",
        "output = []\n",
        "for index, inputRow in dataframeInput.iterrows():\n",
        "    row = []\n",
        "    DelayValue = float(inputRow['Delay'])\n",
        "    PDRValue = float(inputRow['PDR'])\n",
        "    IDNodo = int(inputRow['DeviceID'])\n",
        "    TTL = int(inputRow['TTL'])\n",
        "    TransmissionPower = int(inputRow['TransmissionPower'])\n",
        "    TransmissionsNumber =   int(inputRow['TransmissionsNumber'])\n",
        "    IntervalTime = min(TIValueSet, key=lambda x: abs(x - prediction[index]))\n",
        "    \n",
        "    row.append(DelayValue)\n",
        "    row.append(PDRValue)\n",
        "    row.append(IDNodo)\n",
        "    row.append(TTL)\n",
        "    row.append(TransmissionPower)\n",
        "    row.append(TransmissionsNumber)\n",
        "    row.append(IntervalTime)\n",
        "    output.append(row)\n",
        "  \n",
        "# print(output)\n",
        "dataframeOutput = pd.DataFrame(output)\n",
        "header = ['Delay (ms)', 'PDR', 'NodeId', 'TTL', 'Potenza di trasmissione', 'Numero di trasmissioni', 'Intervallo tra le trasmissioni']\n",
        "dataframeOutput.columns = header\n",
        "\n",
        "# Esportare in un file CSV\n",
        "dataframeOutput.to_csv('Results/14 Boosting-TTL-TransmissionPower-TransmissionsNumber.csv', index=False)"
      ],
      "metadata": {
        "id": "R9UdDXmOTCrn"
      },
      "execution_count": 34,
      "outputs": []
    },
    {
      "cell_type": "markdown",
      "source": [
        "#### Prediction of 1 variable - TTL - TransmissionPower - IntervalTime"
      ],
      "metadata": {
        "id": "WM-qx9JGYhLd"
      }
    },
    {
      "cell_type": "code",
      "source": [
        "# Carica il modello addestrato\n",
        "clf = load('Models/15 Boosting-TTL-TransmissionPower-IntervalTime.joblib')\n",
        "\n",
        "# Combinazione di tutti i parametri\n",
        "combinations = list(itertools.product(DelayValues, PDRValues, DeviceID, TTLValues, TransmissionPowerValues, IntervalTimeValues))\n",
        "dataframeInput = pd.DataFrame(combinations)\n",
        "header = ['Delay', 'PDR', 'DeviceID', 'TTL', 'TransmissionPower', 'IntervalTime']\n",
        "dataframeInput.columns = header\n",
        "\n",
        "prediction = clf.predict(dataframeInput)\n",
        "output = []\n",
        "for index, inputRow in dataframeInput.iterrows():\n",
        "    row = []\n",
        "    DelayValue = float(inputRow['Delay'])\n",
        "    PDRValue = float(inputRow['PDR'])\n",
        "    IDNodo = int(inputRow['DeviceID'])\n",
        "    TTL = int(inputRow['TTL'])\n",
        "    TransmissionPower = int(inputRow['TransmissionPower'])\n",
        "    TransmissionsNumber =  min(TNValueSet, key=lambda x: abs(x - prediction[index]))\n",
        "    IntervalTime = int(inputRow['IntervalTime'])\n",
        "    \n",
        "    row.append(DelayValue)\n",
        "    row.append(PDRValue)\n",
        "    row.append(IDNodo)\n",
        "    row.append(TTL)\n",
        "    row.append(TransmissionPower)\n",
        "    row.append(TransmissionsNumber)\n",
        "    row.append(IntervalTime)\n",
        "    output.append(row)\n",
        "  \n",
        "# print(output)\n",
        "dataframeOutput = pd.DataFrame(output)\n",
        "header = ['Delay (ms)', 'PDR', 'NodeId', 'TTL', 'Potenza di trasmissione', 'Numero di trasmissioni', 'Intervallo tra le trasmissioni']\n",
        "dataframeOutput.columns = header\n",
        "\n",
        "# Esportare in un file CSV\n",
        "dataframeOutput.to_csv('Results/15 Boosting-TTL-TransmissionPower-IntervalTime.csv', index=False)"
      ],
      "metadata": {
        "id": "TIH8GYOuYxVC"
      },
      "execution_count": 35,
      "outputs": []
    },
    {
      "cell_type": "markdown",
      "source": [
        "#### Prediction of 1 variable - TTL - TransmissionsNumber - IntervalTime"
      ],
      "metadata": {
        "id": "5fciUSJ5Z7g-"
      }
    },
    {
      "cell_type": "code",
      "source": [
        "# Carica il modello addestrato\n",
        "clf = load('Models/16 Boosting-TTL-TransmissionsNumber-IntervalTime.joblib')\n",
        "\n",
        "# Combinazione di tutti i parametri\n",
        "combinations = list(itertools.product(DelayValues, PDRValues, DeviceID, TTLValues, TransmissionNumberValues, IntervalTimeValues))\n",
        "dataframeInput = pd.DataFrame(combinations)\n",
        "header = ['Delay', 'PDR', 'DeviceID', 'TTL', 'TransmissionsNumber', 'IntervalTime']\n",
        "dataframeInput.columns = header\n",
        "\n",
        "prediction = clf.predict(dataframeInput)\n",
        "output = []\n",
        "for index, inputRow in dataframeInput.iterrows():\n",
        "    row = []\n",
        "    DelayValue = float(inputRow['Delay'])\n",
        "    PDRValue = float(inputRow['PDR'])\n",
        "    IDNodo = int(inputRow['DeviceID'])\n",
        "    TTL = int(inputRow['TTL'])\n",
        "    TransmissionPower = min(TPValueSet, key=lambda x: abs(x - prediction[index]))\n",
        "    TransmissionsNumber = int(inputRow['TransmissionsNumber']) \n",
        "    IntervalTime = int(inputRow['IntervalTime'])\n",
        "    \n",
        "    row.append(DelayValue)\n",
        "    row.append(PDRValue)\n",
        "    row.append(IDNodo)\n",
        "    row.append(TTL)\n",
        "    row.append(TransmissionPower)\n",
        "    row.append(TransmissionsNumber)\n",
        "    row.append(IntervalTime)\n",
        "    output.append(row)\n",
        "  \n",
        "# print(output)\n",
        "dataframeOutput = pd.DataFrame(output)\n",
        "header = ['Delay (ms)', 'PDR', 'NodeId', 'TTL', 'Potenza di trasmissione', 'Numero di trasmissioni', 'Intervallo tra le trasmissioni']\n",
        "dataframeOutput.columns = header\n",
        "\n",
        "# Esportare in un file CSV\n",
        "dataframeOutput.to_csv('Results/16 Boosting-TTL-TransmissionsNumber-IntervalTime.csv', index=False)"
      ],
      "metadata": {
        "id": "F4bGhxPGaDI_"
      },
      "execution_count": 36,
      "outputs": []
    },
    {
      "cell_type": "markdown",
      "source": [
        "#### Prediction of 1 variable - TransmissionPower - TransmissionsNumber - IntervalTime"
      ],
      "metadata": {
        "id": "orCBS7kGa9so"
      }
    },
    {
      "cell_type": "code",
      "source": [
        "# Carica il modello addestrato\n",
        "clf = load('Models/17 Boosting-TransmissionPower-TransmissionsNumber-IntervalTime.joblib')\n",
        "\n",
        "# Combinazione di tutti i parametri\n",
        "combinations = list(itertools.product(DelayValues, PDRValues, DeviceID, TransmissionPowerValues, TransmissionNumberValues, IntervalTimeValues))\n",
        "dataframeInput = pd.DataFrame(combinations)\n",
        "header = ['Delay', 'PDR', 'DeviceID', 'TransmissionPower', 'TransmissionsNumber', 'IntervalTime']\n",
        "dataframeInput.columns = header\n",
        "\n",
        "prediction = clf.predict(dataframeInput)\n",
        "output = []\n",
        "for index, inputRow in dataframeInput.iterrows():\n",
        "    row = []\n",
        "    DelayValue = float(inputRow['Delay'])\n",
        "    PDRValue = float(inputRow['PDR'])\n",
        "    IDNodo = int(inputRow['DeviceID'])\n",
        "    TTL = min(TTLValueSet, key=lambda x: abs(x - prediction[index]))\n",
        "    TransmissionPower = int(inputRow['TransmissionPower']) \n",
        "    TransmissionsNumber = int(inputRow['TransmissionsNumber']) \n",
        "    IntervalTime = int(inputRow['IntervalTime'])\n",
        "    \n",
        "    row.append(DelayValue)\n",
        "    row.append(PDRValue)\n",
        "    row.append(IDNodo)\n",
        "    row.append(TTL)\n",
        "    row.append(TransmissionPower)\n",
        "    row.append(TransmissionsNumber)\n",
        "    row.append(IntervalTime)\n",
        "    output.append(row)\n",
        "  \n",
        "# print(output)\n",
        "dataframeOutput = pd.DataFrame(output)\n",
        "header = ['Delay (ms)', 'PDR', 'NodeId', 'TTL', 'Potenza di trasmissione', 'Numero di trasmissioni', 'Intervallo tra le trasmissioni']\n",
        "dataframeOutput.columns = header\n",
        "\n",
        "# Esportare in un file CSV\n",
        "dataframeOutput.to_csv('Results/17 Boosting-TransmissionPower-TransmissionsNumber-IntervalTime.csv', index=False)"
      ],
      "metadata": {
        "id": "y9zRnm_FbPWA"
      },
      "execution_count": 37,
      "outputs": []
    },
    {
      "cell_type": "markdown",
      "source": [
        "## Comandi"
      ],
      "metadata": {
        "id": "vTr4jrCbe9aG"
      }
    },
    {
      "cell_type": "code",
      "source": [
        "!zip -r ModelsBoosting.zip Models\n",
        "!zip -r ResultsBoosting.zip Results"
      ],
      "metadata": {
        "colab": {
          "base_uri": "https://localhost:8080/"
        },
        "id": "_RJimWMVfASw",
        "outputId": "bbfb64e5-7ead-4ba1-b290-51c6698cceb6"
      },
      "execution_count": 38,
      "outputs": [
        {
          "output_type": "stream",
          "name": "stdout",
          "text": [
            "  adding: Models/ (stored 0%)\n",
            "  adding: Models/09 Boosting-TTL-TransmissionsNumber.joblib (deflated 67%)\n",
            "  adding: Models/17 Boosting-TransmissionPower-TransmissionsNumber-IntervalTime.joblib (deflated 66%)\n",
            "  adding: Models/11 Boosting-TransmissionPower-TransmissionsNumber.joblib (deflated 66%)\n",
            "  adding: Models/10 Boosting-TTL-IntervalTime.joblib (deflated 66%)\n",
            "  adding: Models/08 Boosting-TTL-TransmissionPower.joblib (deflated 66%)\n",
            "  adding: Models/06 Boosting - TransmissionsNumber.joblib (deflated 67%)\n",
            "  adding: Models/12 Boosting-TransmissionPower-IntervalTime.joblib (deflated 66%)\n",
            "  adding: Models/02 Boosting-PDR.joblib (deflated 89%)\n",
            "  adding: Models/16 Boosting-TTL-TransmissionsNumber-IntervalTime.joblib (deflated 67%)\n",
            "  adding: Models/15 Boosting-TTL-TransmissionPower-IntervalTime.joblib (deflated 66%)\n",
            "  adding: Models/05 Boosting - TransmissionPower.joblib (deflated 67%)\n",
            "  adding: Models/14 Boosting-TTL-TransmissionPower-TransmissionsNumber.joblib (deflated 67%)\n",
            "  adding: Models/07 Boosting - IntervalTime.joblib (deflated 66%)\n",
            "  adding: Models/01 Boosting-Delay.joblib (deflated 67%)\n",
            "  adding: Models/13 Boosting-TransmissionsNumber-IntervalTime.joblib (deflated 66%)\n",
            "  adding: Models/04 Boosting - TTL.joblib (deflated 66%)\n",
            "  adding: Models/03 Boosting.joblib (deflated 67%)\n",
            "  adding: Results/ (stored 0%)\n",
            "  adding: Results/03 Boosting.csv (deflated 86%)\n",
            "  adding: Results/05 Boosting-TransmissionPower.csv (deflated 88%)\n",
            "  adding: Results/06 Boosting-TransmissionsNumber.csv (deflated 89%)\n",
            "  adding: Results/14 Boosting-TTL-TransmissionPower-TransmissionsNumber.csv (deflated 88%)\n",
            "  adding: Results/07 Boosting-IntervalTime.csv (deflated 89%)\n",
            "  adding: Results/04 Boosting-TTL.csv (deflated 88%)\n",
            "  adding: Results/01 Boosting-Delay.csv (deflated 65%)\n",
            "  adding: Results/15 Boosting-TTL-TransmissionPower-IntervalTime.csv (deflated 89%)\n",
            "  adding: Results/17 Boosting-TransmissionPower-TransmissionsNumber-IntervalTime.csv (deflated 88%)\n",
            "  adding: Results/12 Boosting-TransmissionPower-IntervalTime.csv (deflated 89%)\n",
            "  adding: Results/13 Boosting-TransmissionsNumber-IntervalTime.csv (deflated 88%)\n",
            "  adding: Results/16 Boosting-TTL-TransmissionsNumber-IntervalTime.csv (deflated 89%)\n",
            "  adding: Results/09 Boosting-TTL-TransmissionsNumber.csv (deflated 89%)\n",
            "  adding: Results/11 Boosting-TransmissionPower-TransmissionsNumber.csv (deflated 89%)\n",
            "  adding: Results/10 Boosting-TTL-IntervalTime.csv (deflated 88%)\n",
            "  adding: Results/02 Boosting-PDR.csv (deflated 56%)\n",
            "  adding: Results/08 Boosting-TTL-TransmissionPower.csv (deflated 88%)\n"
          ]
        }
      ]
    }
  ]
}